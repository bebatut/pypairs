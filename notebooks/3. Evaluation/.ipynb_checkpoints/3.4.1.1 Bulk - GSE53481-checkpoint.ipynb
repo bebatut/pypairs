{
 "cells": [
  {
   "cell_type": "code",
   "execution_count": 1,
   "metadata": {},
   "outputs": [
    {
     "data": {
      "text/html": [
       "<script>requirejs.config({paths: { 'plotly': ['https://cdn.plot.ly/plotly-latest.min']},});if(!window.Plotly) {{require(['plotly'],function(plotly) {window.Plotly=plotly;});}}</script>"
      ],
      "text/vnd.plotly.v1+html": [
       "<script>requirejs.config({paths: { 'plotly': ['https://cdn.plot.ly/plotly-latest.min']},});if(!window.Plotly) {{require(['plotly'],function(plotly) {window.Plotly=plotly;});}}</script>"
      ]
     },
     "metadata": {},
     "output_type": "display_data"
    }
   ],
   "source": [
    "import sys\n",
    "base = \"./../../../\"\n",
    "sys.path.append(base)\n",
    "import pandas\n",
    "from pathlib import Path\n",
    "import pairs_flat_v2 as pairs\n",
    "import json\n",
    "import helper\n",
    "from sklearn.preprocessing import QuantileTransformer\n",
    "from plotly.offline import download_plotlyjs, init_notebook_mode, plot, iplot\n",
    "from plotly import tools\n",
    "import plotly.graph_objs as go\n",
    "import numpy as np\n",
    "\n",
    "init_notebook_mode(connected=True)\n",
    "from tqdm import tqdm_notebook as tqdm"
   ]
  },
  {
   "cell_type": "markdown",
   "metadata": {},
   "source": [
    "# Human pluripotent stem cells (hPSC) - GSE53481\n",
    "Pluripotent cells from [Cell-cycle control of developmentally regulated transcription factors accounts for heterogeneity in human pluripotent cells](https://www.ncbi.nlm.nih.gov/pmc/articles/PMC3964279/)"
   ]
  },
  {
   "cell_type": "code",
   "execution_count": 2,
   "metadata": {},
   "outputs": [
    {
     "name": "stdout",
     "output_type": "stream",
     "text": [
      "[__set_matrix] Original Matrix 'x' has shape 19084 x 247\n",
      "[__set_matrix] Removed 16689 genes that were not in 'subset_genes'. 2395 genes remaining.\n",
      "[__set_matrix] Removed 61 genes that were not expressed in any samples. 2334 genes remaining.\n",
      "[__set_matrix] Removed 0 samples that were not annotated in 'phases'. 247 samples remaining.\n",
      "[__set_matrix] Matrix truncation done. Working with 2334 genes for 247 samples.\n",
      "[sandbag] Identifying marker pairs...Processing in parallel with 10 processes...\n",
      " Done!\n",
      "[sandbag] Identified 8146 marker pairs (phase: count): {'G1': 2575, 'S': 4101, 'G2M': 1470}\n"
     ]
    }
   ],
   "source": [
    "# Load matrix\n",
    "gencounts_oscope = pandas.read_csv(Path(base + \"data/GSE64016_H1andFUCCI_normalized_EC_human.csv\"))\n",
    "\n",
    "# Set index right\n",
    "gencounts_oscope.set_index(\"Unnamed: 0\", inplace=True)\n",
    "\n",
    "# Subset sorted\n",
    "gencounts_oscope_sorted = gencounts_oscope.iloc[:, \n",
    "                                                       [gencounts_oscope.columns.get_loc(c) \n",
    "                                                        for c in gencounts_oscope.columns \n",
    "                                                        if \"G1_\" in c or \"G2_\" in c or \"S_\" in c]]\n",
    "\n",
    "# Define annotation\n",
    "is_G1 = [gencounts_oscope_sorted.columns.get_loc(c) for c in gencounts_oscope_sorted.columns if \"G1_\" in c]\n",
    "is_S = [gencounts_oscope_sorted.columns.get_loc(c) for c in gencounts_oscope_sorted.columns if \"S_\" in c]\n",
    "is_G2M = [gencounts_oscope_sorted.columns.get_loc(c) for c in gencounts_oscope_sorted.columns if \"G2_\" in c]\n",
    "\n",
    "annotation = {\n",
    "    \"G1\": list(is_G1),\n",
    "    \"S\": list(is_S),\n",
    "    \"G2M\": list(is_G2M)\n",
    "}\n",
    "\n",
    "go_0007049 = [line.replace(\"\\n\",\"\").replace(\"\\r\",\"\") for line in open(base + \"data/go_0007049_homoSapiens.csv\", \"r\")]\n",
    "cycle_base = [line.split(\"\\t\")[0] for i, line in enumerate(open(base + \"data/cyclebase_top1000_genes.tsv\", \"r\")) if 0 < i]\n",
    "cycle_genes = np.unique(np.concatenate((go_0007049, cycle_base),0))\n",
    "\n",
    "cc_marker = pairs.sandbag(gencounts_oscope_sorted, phases=annotation, subset_genes=list(cycle_genes), fraction=0.6, processes=10, verbose=True)"
   ]
  },
  {
   "cell_type": "code",
   "execution_count": 3,
   "metadata": {},
   "outputs": [
    {
     "data": {
      "text/html": [
       "<div>\n",
       "<style scoped>\n",
       "    .dataframe tbody tr th:only-of-type {\n",
       "        vertical-align: middle;\n",
       "    }\n",
       "\n",
       "    .dataframe tbody tr th {\n",
       "        vertical-align: top;\n",
       "    }\n",
       "\n",
       "    .dataframe thead th {\n",
       "        text-align: right;\n",
       "    }\n",
       "</style>\n",
       "<table border=\"1\" class=\"dataframe\">\n",
       "  <thead>\n",
       "    <tr style=\"text-align: right;\">\n",
       "      <th></th>\n",
       "      <th>H1.DN</th>\n",
       "      <th>H1.KO2</th>\n",
       "      <th>H1.AzLow</th>\n",
       "      <th>H1.AzHigh</th>\n",
       "      <th>H2.DN</th>\n",
       "      <th>H2.KO2</th>\n",
       "      <th>H2.AzLow</th>\n",
       "      <th>H2.AzHigh</th>\n",
       "      <th>H3.DN</th>\n",
       "      <th>H3.KO2</th>\n",
       "      <th>H3.AzLow</th>\n",
       "      <th>H3.AzHigh</th>\n",
       "    </tr>\n",
       "    <tr>\n",
       "      <th>GENE</th>\n",
       "      <th></th>\n",
       "      <th></th>\n",
       "      <th></th>\n",
       "      <th></th>\n",
       "      <th></th>\n",
       "      <th></th>\n",
       "      <th></th>\n",
       "      <th></th>\n",
       "      <th></th>\n",
       "      <th></th>\n",
       "      <th></th>\n",
       "      <th></th>\n",
       "    </tr>\n",
       "  </thead>\n",
       "  <tbody>\n",
       "    <tr>\n",
       "      <th>LOC100289255</th>\n",
       "      <td>0.00</td>\n",
       "      <td>0.00</td>\n",
       "      <td>0.02</td>\n",
       "      <td>0.02</td>\n",
       "      <td>0.00</td>\n",
       "      <td>0.01</td>\n",
       "      <td>0.03</td>\n",
       "      <td>0.03</td>\n",
       "      <td>0.00</td>\n",
       "      <td>0.01</td>\n",
       "      <td>0.02</td>\n",
       "      <td>0.03</td>\n",
       "    </tr>\n",
       "    <tr>\n",
       "      <th>LOC644656</th>\n",
       "      <td>1.76</td>\n",
       "      <td>1.81</td>\n",
       "      <td>0.73</td>\n",
       "      <td>0.54</td>\n",
       "      <td>2.26</td>\n",
       "      <td>1.71</td>\n",
       "      <td>0.54</td>\n",
       "      <td>0.78</td>\n",
       "      <td>1.63</td>\n",
       "      <td>1.80</td>\n",
       "      <td>1.08</td>\n",
       "      <td>0.64</td>\n",
       "    </tr>\n",
       "    <tr>\n",
       "      <th>LOC646903</th>\n",
       "      <td>1.49</td>\n",
       "      <td>1.14</td>\n",
       "      <td>0.61</td>\n",
       "      <td>0.35</td>\n",
       "      <td>1.94</td>\n",
       "      <td>2.01</td>\n",
       "      <td>0.72</td>\n",
       "      <td>0.65</td>\n",
       "      <td>1.12</td>\n",
       "      <td>1.42</td>\n",
       "      <td>0.69</td>\n",
       "      <td>0.44</td>\n",
       "    </tr>\n",
       "    <tr>\n",
       "      <th>FLJ36644</th>\n",
       "      <td>0.11</td>\n",
       "      <td>0.12</td>\n",
       "      <td>0.00</td>\n",
       "      <td>0.01</td>\n",
       "      <td>0.12</td>\n",
       "      <td>0.20</td>\n",
       "      <td>0.07</td>\n",
       "      <td>0.03</td>\n",
       "      <td>0.15</td>\n",
       "      <td>0.16</td>\n",
       "      <td>0.12</td>\n",
       "      <td>0.05</td>\n",
       "    </tr>\n",
       "    <tr>\n",
       "      <th>LOC284454</th>\n",
       "      <td>0.50</td>\n",
       "      <td>0.99</td>\n",
       "      <td>0.19</td>\n",
       "      <td>0.22</td>\n",
       "      <td>0.85</td>\n",
       "      <td>0.72</td>\n",
       "      <td>0.38</td>\n",
       "      <td>0.40</td>\n",
       "      <td>0.66</td>\n",
       "      <td>0.81</td>\n",
       "      <td>0.36</td>\n",
       "      <td>0.58</td>\n",
       "    </tr>\n",
       "    <tr>\n",
       "      <th>LOC149773</th>\n",
       "      <td>0.01</td>\n",
       "      <td>0.00</td>\n",
       "      <td>0.03</td>\n",
       "      <td>0.01</td>\n",
       "      <td>0.03</td>\n",
       "      <td>0.01</td>\n",
       "      <td>0.06</td>\n",
       "      <td>0.02</td>\n",
       "      <td>0.07</td>\n",
       "      <td>0.02</td>\n",
       "      <td>0.04</td>\n",
       "      <td>0.03</td>\n",
       "    </tr>\n",
       "    <tr>\n",
       "      <th>LOC100131176</th>\n",
       "      <td>0.21</td>\n",
       "      <td>0.26</td>\n",
       "      <td>0.00</td>\n",
       "      <td>0.00</td>\n",
       "      <td>0.34</td>\n",
       "      <td>0.56</td>\n",
       "      <td>0.20</td>\n",
       "      <td>0.00</td>\n",
       "      <td>1.00</td>\n",
       "      <td>0.38</td>\n",
       "      <td>0.35</td>\n",
       "      <td>0.00</td>\n",
       "    </tr>\n",
       "    <tr>\n",
       "      <th>LOC100131366</th>\n",
       "      <td>0.19</td>\n",
       "      <td>0.03</td>\n",
       "      <td>0.31</td>\n",
       "      <td>0.29</td>\n",
       "      <td>0.00</td>\n",
       "      <td>0.30</td>\n",
       "      <td>0.96</td>\n",
       "      <td>0.71</td>\n",
       "      <td>0.30</td>\n",
       "      <td>0.00</td>\n",
       "      <td>0.71</td>\n",
       "      <td>0.94</td>\n",
       "    </tr>\n",
       "    <tr>\n",
       "      <th>FLJ42351</th>\n",
       "      <td>0.10</td>\n",
       "      <td>0.06</td>\n",
       "      <td>0.22</td>\n",
       "      <td>0.33</td>\n",
       "      <td>0.15</td>\n",
       "      <td>0.00</td>\n",
       "      <td>0.25</td>\n",
       "      <td>0.18</td>\n",
       "      <td>0.05</td>\n",
       "      <td>0.15</td>\n",
       "      <td>0.25</td>\n",
       "      <td>0.70</td>\n",
       "    </tr>\n",
       "    <tr>\n",
       "      <th>LOC392232</th>\n",
       "      <td>0.09</td>\n",
       "      <td>0.08</td>\n",
       "      <td>0.02</td>\n",
       "      <td>0.06</td>\n",
       "      <td>0.02</td>\n",
       "      <td>0.01</td>\n",
       "      <td>0.00</td>\n",
       "      <td>0.02</td>\n",
       "      <td>0.07</td>\n",
       "      <td>0.02</td>\n",
       "      <td>0.01</td>\n",
       "      <td>0.06</td>\n",
       "    </tr>\n",
       "  </tbody>\n",
       "</table>\n",
       "</div>"
      ],
      "text/plain": [
       "              H1.DN  H1.KO2  H1.AzLow  H1.AzHigh  H2.DN  H2.KO2  H2.AzLow  \\\n",
       "GENE                                                                        \n",
       "LOC100289255   0.00    0.00      0.02       0.02   0.00    0.01      0.03   \n",
       "LOC644656      1.76    1.81      0.73       0.54   2.26    1.71      0.54   \n",
       "LOC646903      1.49    1.14      0.61       0.35   1.94    2.01      0.72   \n",
       "FLJ36644       0.11    0.12      0.00       0.01   0.12    0.20      0.07   \n",
       "LOC284454      0.50    0.99      0.19       0.22   0.85    0.72      0.38   \n",
       "LOC149773      0.01    0.00      0.03       0.01   0.03    0.01      0.06   \n",
       "LOC100131176   0.21    0.26      0.00       0.00   0.34    0.56      0.20   \n",
       "LOC100131366   0.19    0.03      0.31       0.29   0.00    0.30      0.96   \n",
       "FLJ42351       0.10    0.06      0.22       0.33   0.15    0.00      0.25   \n",
       "LOC392232      0.09    0.08      0.02       0.06   0.02    0.01      0.00   \n",
       "\n",
       "              H2.AzHigh  H3.DN  H3.KO2  H3.AzLow  H3.AzHigh  \n",
       "GENE                                                         \n",
       "LOC100289255       0.03   0.00    0.01      0.02       0.03  \n",
       "LOC644656          0.78   1.63    1.80      1.08       0.64  \n",
       "LOC646903          0.65   1.12    1.42      0.69       0.44  \n",
       "FLJ36644           0.03   0.15    0.16      0.12       0.05  \n",
       "LOC284454          0.40   0.66    0.81      0.36       0.58  \n",
       "LOC149773          0.02   0.07    0.02      0.04       0.03  \n",
       "LOC100131176       0.00   1.00    0.38      0.35       0.00  \n",
       "LOC100131366       0.71   0.30    0.00      0.71       0.94  \n",
       "FLJ42351           0.18   0.05    0.15      0.25       0.70  \n",
       "LOC392232          0.02   0.07    0.02      0.01       0.06  "
      ]
     },
     "execution_count": 3,
     "metadata": {},
     "output_type": "execute_result"
    }
   ],
   "source": [
    "gencounts_GSE53481 = pandas.read_csv(Path(base + \"data/GSE53481_humanRNAseq.txt\"), sep='\\t')\n",
    "genes = [s[s.rindex('_') +1:] for s in gencounts_GSE53481[\"GENE\"]]\n",
    "gencounts_GSE53481[\"GENE\"] = genes\n",
    "gencounts_GSE53481.set_index(\"GENE\", inplace=True)\n",
    "gencounts_GSE53481.head(10)"
   ]
  },
  {
   "cell_type": "code",
   "execution_count": 4,
   "metadata": {},
   "outputs": [
    {
     "name": "stdout",
     "output_type": "stream",
     "text": [
      "67 cell cycle genes are present in the dataset\n"
     ]
    }
   ],
   "source": [
    "print(\"{} cell cycle genes are present in the dataset\".format(len(list(set(genes).intersection(cycle_genes)))))"
   ]
  },
  {
   "cell_type": "code",
   "execution_count": 5,
   "metadata": {},
   "outputs": [
    {
     "data": {
      "text/html": [
       "<div>\n",
       "<style scoped>\n",
       "    .dataframe tbody tr th:only-of-type {\n",
       "        vertical-align: middle;\n",
       "    }\n",
       "\n",
       "    .dataframe tbody tr th {\n",
       "        vertical-align: top;\n",
       "    }\n",
       "\n",
       "    .dataframe thead th {\n",
       "        text-align: right;\n",
       "    }\n",
       "</style>\n",
       "<table border=\"1\" class=\"dataframe\">\n",
       "  <thead>\n",
       "    <tr style=\"text-align: right;\">\n",
       "      <th></th>\n",
       "      <th>H1.DN</th>\n",
       "      <th>H1.KO2</th>\n",
       "      <th>H1.AzLow</th>\n",
       "      <th>H1.AzHigh</th>\n",
       "      <th>H2.DN</th>\n",
       "      <th>H2.KO2</th>\n",
       "      <th>H2.AzLow</th>\n",
       "      <th>H2.AzHigh</th>\n",
       "      <th>H3.DN</th>\n",
       "      <th>H3.KO2</th>\n",
       "      <th>H3.AzLow</th>\n",
       "      <th>H3.AzHigh</th>\n",
       "    </tr>\n",
       "    <tr>\n",
       "      <th>GENE</th>\n",
       "      <th></th>\n",
       "      <th></th>\n",
       "      <th></th>\n",
       "      <th></th>\n",
       "      <th></th>\n",
       "      <th></th>\n",
       "      <th></th>\n",
       "      <th></th>\n",
       "      <th></th>\n",
       "      <th></th>\n",
       "      <th></th>\n",
       "      <th></th>\n",
       "    </tr>\n",
       "  </thead>\n",
       "  <tbody>\n",
       "    <tr>\n",
       "      <th>LOC100289255</th>\n",
       "      <td>1.000000e-07</td>\n",
       "      <td>1.000000e-07</td>\n",
       "      <td>6.361361e-01</td>\n",
       "      <td>6.361361e-01</td>\n",
       "      <td>1.000000e-07</td>\n",
       "      <td>4.194194e-01</td>\n",
       "      <td>9.999999e-01</td>\n",
       "      <td>9.999999e-01</td>\n",
       "      <td>1.000000e-07</td>\n",
       "      <td>4.194194e-01</td>\n",
       "      <td>0.636136</td>\n",
       "      <td>9.999999e-01</td>\n",
       "    </tr>\n",
       "    <tr>\n",
       "      <th>LOC644656</th>\n",
       "      <td>7.273273e-01</td>\n",
       "      <td>9.089138e-01</td>\n",
       "      <td>2.728729e-01</td>\n",
       "      <td>1.000000e-07</td>\n",
       "      <td>9.999999e-01</td>\n",
       "      <td>6.364466e-01</td>\n",
       "      <td>1.000000e-07</td>\n",
       "      <td>3.634222e-01</td>\n",
       "      <td>5.455312e-01</td>\n",
       "      <td>8.185142e-01</td>\n",
       "      <td>0.454506</td>\n",
       "      <td>1.818422e-01</td>\n",
       "    </tr>\n",
       "    <tr>\n",
       "      <th>LOC646903</th>\n",
       "      <td>8.178995e-01</td>\n",
       "      <td>6.357958e-01</td>\n",
       "      <td>1.820635e-01</td>\n",
       "      <td>1.000000e-07</td>\n",
       "      <td>9.094977e-01</td>\n",
       "      <td>9.999999e-01</td>\n",
       "      <td>4.544619e-01</td>\n",
       "      <td>2.727273e-01</td>\n",
       "      <td>5.455406e-01</td>\n",
       "      <td>7.275551e-01</td>\n",
       "      <td>0.363697</td>\n",
       "      <td>9.079514e-02</td>\n",
       "    </tr>\n",
       "    <tr>\n",
       "      <th>FLJ36644</th>\n",
       "      <td>4.547405e-01</td>\n",
       "      <td>6.361361e-01</td>\n",
       "      <td>1.000000e-07</td>\n",
       "      <td>9.078309e-02</td>\n",
       "      <td>6.361361e-01</td>\n",
       "      <td>9.999999e-01</td>\n",
       "      <td>3.635214e-01</td>\n",
       "      <td>1.818182e-01</td>\n",
       "      <td>8.184500e-01</td>\n",
       "      <td>9.089616e-01</td>\n",
       "      <td>0.636136</td>\n",
       "      <td>2.727273e-01</td>\n",
       "    </tr>\n",
       "    <tr>\n",
       "      <th>LOC284454</th>\n",
       "      <td>4.545657e-01</td>\n",
       "      <td>9.999999e-01</td>\n",
       "      <td>1.000000e-07</td>\n",
       "      <td>9.058149e-02</td>\n",
       "      <td>9.089687e-01</td>\n",
       "      <td>7.271716e-01</td>\n",
       "      <td>2.727273e-01</td>\n",
       "      <td>3.634332e-01</td>\n",
       "      <td>6.364169e-01</td>\n",
       "      <td>8.183809e-01</td>\n",
       "      <td>0.182107</td>\n",
       "      <td>5.454545e-01</td>\n",
       "    </tr>\n",
       "    <tr>\n",
       "      <th>LOC149773</th>\n",
       "      <td>1.816817e-01</td>\n",
       "      <td>1.000000e-07</td>\n",
       "      <td>6.361361e-01</td>\n",
       "      <td>1.816817e-01</td>\n",
       "      <td>6.361361e-01</td>\n",
       "      <td>1.816817e-01</td>\n",
       "      <td>9.092169e-01</td>\n",
       "      <td>4.094094e-01</td>\n",
       "      <td>9.999999e-01</td>\n",
       "      <td>4.094094e-01</td>\n",
       "      <td>0.818040</td>\n",
       "      <td>6.361361e-01</td>\n",
       "    </tr>\n",
       "    <tr>\n",
       "      <th>LOC100131176</th>\n",
       "      <td>4.544741e-01</td>\n",
       "      <td>5.454075e-01</td>\n",
       "      <td>1.000000e-07</td>\n",
       "      <td>1.000000e-07</td>\n",
       "      <td>6.365918e-01</td>\n",
       "      <td>9.089923e-01</td>\n",
       "      <td>3.642466e-01</td>\n",
       "      <td>1.000000e-07</td>\n",
       "      <td>9.999999e-01</td>\n",
       "      <td>8.179049e-01</td>\n",
       "      <td>0.727013</td>\n",
       "      <td>1.000000e-07</td>\n",
       "    </tr>\n",
       "    <tr>\n",
       "      <th>LOC100131366</th>\n",
       "      <td>2.728443e-01</td>\n",
       "      <td>1.814285e-01</td>\n",
       "      <td>6.356982e-01</td>\n",
       "      <td>3.641536e-01</td>\n",
       "      <td>1.000000e-07</td>\n",
       "      <td>5.000000e-01</td>\n",
       "      <td>9.999999e-01</td>\n",
       "      <td>7.727728e-01</td>\n",
       "      <td>5.000000e-01</td>\n",
       "      <td>1.000000e-07</td>\n",
       "      <td>0.772773</td>\n",
       "      <td>9.096284e-01</td>\n",
       "    </tr>\n",
       "    <tr>\n",
       "      <th>FLJ42351</th>\n",
       "      <td>2.726727e-01</td>\n",
       "      <td>1.814858e-01</td>\n",
       "      <td>6.364169e-01</td>\n",
       "      <td>9.089548e-01</td>\n",
       "      <td>4.094094e-01</td>\n",
       "      <td>1.000000e-07</td>\n",
       "      <td>7.727728e-01</td>\n",
       "      <td>5.454278e-01</td>\n",
       "      <td>9.104850e-02</td>\n",
       "      <td>4.094094e-01</td>\n",
       "      <td>0.772773</td>\n",
       "      <td>9.999999e-01</td>\n",
       "    </tr>\n",
       "    <tr>\n",
       "      <th>LOC392232</th>\n",
       "      <td>9.999999e-01</td>\n",
       "      <td>9.090909e-01</td>\n",
       "      <td>4.089089e-01</td>\n",
       "      <td>6.816817e-01</td>\n",
       "      <td>4.089089e-01</td>\n",
       "      <td>1.361361e-01</td>\n",
       "      <td>1.000000e-07</td>\n",
       "      <td>4.644645e-01</td>\n",
       "      <td>8.181818e-01</td>\n",
       "      <td>4.016517e-01</td>\n",
       "      <td>0.136136</td>\n",
       "      <td>6.816817e-01</td>\n",
       "    </tr>\n",
       "  </tbody>\n",
       "</table>\n",
       "</div>"
      ],
      "text/plain": [
       "                     H1.DN        H1.KO2      H1.AzLow     H1.AzHigh  \\\n",
       "GENE                                                                   \n",
       "LOC100289255  1.000000e-07  1.000000e-07  6.361361e-01  6.361361e-01   \n",
       "LOC644656     7.273273e-01  9.089138e-01  2.728729e-01  1.000000e-07   \n",
       "LOC646903     8.178995e-01  6.357958e-01  1.820635e-01  1.000000e-07   \n",
       "FLJ36644      4.547405e-01  6.361361e-01  1.000000e-07  9.078309e-02   \n",
       "LOC284454     4.545657e-01  9.999999e-01  1.000000e-07  9.058149e-02   \n",
       "LOC149773     1.816817e-01  1.000000e-07  6.361361e-01  1.816817e-01   \n",
       "LOC100131176  4.544741e-01  5.454075e-01  1.000000e-07  1.000000e-07   \n",
       "LOC100131366  2.728443e-01  1.814285e-01  6.356982e-01  3.641536e-01   \n",
       "FLJ42351      2.726727e-01  1.814858e-01  6.364169e-01  9.089548e-01   \n",
       "LOC392232     9.999999e-01  9.090909e-01  4.089089e-01  6.816817e-01   \n",
       "\n",
       "                     H2.DN        H2.KO2      H2.AzLow     H2.AzHigh  \\\n",
       "GENE                                                                   \n",
       "LOC100289255  1.000000e-07  4.194194e-01  9.999999e-01  9.999999e-01   \n",
       "LOC644656     9.999999e-01  6.364466e-01  1.000000e-07  3.634222e-01   \n",
       "LOC646903     9.094977e-01  9.999999e-01  4.544619e-01  2.727273e-01   \n",
       "FLJ36644      6.361361e-01  9.999999e-01  3.635214e-01  1.818182e-01   \n",
       "LOC284454     9.089687e-01  7.271716e-01  2.727273e-01  3.634332e-01   \n",
       "LOC149773     6.361361e-01  1.816817e-01  9.092169e-01  4.094094e-01   \n",
       "LOC100131176  6.365918e-01  9.089923e-01  3.642466e-01  1.000000e-07   \n",
       "LOC100131366  1.000000e-07  5.000000e-01  9.999999e-01  7.727728e-01   \n",
       "FLJ42351      4.094094e-01  1.000000e-07  7.727728e-01  5.454278e-01   \n",
       "LOC392232     4.089089e-01  1.361361e-01  1.000000e-07  4.644645e-01   \n",
       "\n",
       "                     H3.DN        H3.KO2  H3.AzLow     H3.AzHigh  \n",
       "GENE                                                              \n",
       "LOC100289255  1.000000e-07  4.194194e-01  0.636136  9.999999e-01  \n",
       "LOC644656     5.455312e-01  8.185142e-01  0.454506  1.818422e-01  \n",
       "LOC646903     5.455406e-01  7.275551e-01  0.363697  9.079514e-02  \n",
       "FLJ36644      8.184500e-01  9.089616e-01  0.636136  2.727273e-01  \n",
       "LOC284454     6.364169e-01  8.183809e-01  0.182107  5.454545e-01  \n",
       "LOC149773     9.999999e-01  4.094094e-01  0.818040  6.361361e-01  \n",
       "LOC100131176  9.999999e-01  8.179049e-01  0.727013  1.000000e-07  \n",
       "LOC100131366  5.000000e-01  1.000000e-07  0.772773  9.096284e-01  \n",
       "FLJ42351      9.104850e-02  4.094094e-01  0.772773  9.999999e-01  \n",
       "LOC392232     8.181818e-01  4.016517e-01  0.136136  6.816817e-01  "
      ]
     },
     "execution_count": 5,
     "metadata": {},
     "output_type": "execute_result"
    }
   ],
   "source": [
    "x = gencounts_GSE53481.T.values\n",
    "\n",
    "X_std = QuantileTransformer().fit_transform(x.astype(float))\n",
    "\n",
    "gencounts_GSE53481_Qnorm = pandas.DataFrame(X_std.T, index=gencounts_GSE53481.index, columns=gencounts_GSE53481.columns)\n",
    "\n",
    "gencounts_GSE53481_Qnorm.head(10)"
   ]
  },
  {
   "cell_type": "code",
   "execution_count": 6,
   "metadata": {},
   "outputs": [
    {
     "data": {
      "text/html": [
       "<div>\n",
       "<style scoped>\n",
       "    .dataframe tbody tr th:only-of-type {\n",
       "        vertical-align: middle;\n",
       "    }\n",
       "\n",
       "    .dataframe tbody tr th {\n",
       "        vertical-align: top;\n",
       "    }\n",
       "\n",
       "    .dataframe thead th {\n",
       "        text-align: right;\n",
       "    }\n",
       "</style>\n",
       "<table border=\"1\" class=\"dataframe\">\n",
       "  <thead>\n",
       "    <tr style=\"text-align: right;\">\n",
       "      <th></th>\n",
       "      <th>H1.DN</th>\n",
       "      <th>H1.KO2</th>\n",
       "      <th>H1.AzLow</th>\n",
       "      <th>H1.AzHigh</th>\n",
       "      <th>H2.DN</th>\n",
       "      <th>H2.KO2</th>\n",
       "      <th>H2.AzLow</th>\n",
       "      <th>H2.AzHigh</th>\n",
       "      <th>H3.DN</th>\n",
       "      <th>H3.KO2</th>\n",
       "      <th>H3.AzLow</th>\n",
       "      <th>H3.AzHigh</th>\n",
       "    </tr>\n",
       "    <tr>\n",
       "      <th>GENE</th>\n",
       "      <th></th>\n",
       "      <th></th>\n",
       "      <th></th>\n",
       "      <th></th>\n",
       "      <th></th>\n",
       "      <th></th>\n",
       "      <th></th>\n",
       "      <th></th>\n",
       "      <th></th>\n",
       "      <th></th>\n",
       "      <th></th>\n",
       "      <th></th>\n",
       "    </tr>\n",
       "  </thead>\n",
       "  <tbody>\n",
       "    <tr>\n",
       "      <th>LOC100289255</th>\n",
       "      <td>0.000000</td>\n",
       "      <td>0.000000</td>\n",
       "      <td>18.013961</td>\n",
       "      <td>15.353436</td>\n",
       "      <td>0.000000</td>\n",
       "      <td>11.418523</td>\n",
       "      <td>23.257256</td>\n",
       "      <td>19.149262</td>\n",
       "      <td>0.000000</td>\n",
       "      <td>9.501639</td>\n",
       "      <td>16.490901</td>\n",
       "      <td>19.088827</td>\n",
       "    </tr>\n",
       "    <tr>\n",
       "      <th>LOC644656</th>\n",
       "      <td>1570.643250</td>\n",
       "      <td>1836.388909</td>\n",
       "      <td>657.509570</td>\n",
       "      <td>414.542775</td>\n",
       "      <td>1969.687726</td>\n",
       "      <td>1952.567455</td>\n",
       "      <td>418.630613</td>\n",
       "      <td>497.880815</td>\n",
       "      <td>1278.280987</td>\n",
       "      <td>1710.295026</td>\n",
       "      <td>890.508662</td>\n",
       "      <td>407.228302</td>\n",
       "    </tr>\n",
       "    <tr>\n",
       "      <th>LOC646903</th>\n",
       "      <td>1329.692297</td>\n",
       "      <td>1156.620639</td>\n",
       "      <td>549.425805</td>\n",
       "      <td>268.685132</td>\n",
       "      <td>1690.793889</td>\n",
       "      <td>2295.123149</td>\n",
       "      <td>558.174150</td>\n",
       "      <td>414.900679</td>\n",
       "      <td>878.328040</td>\n",
       "      <td>1349.232743</td>\n",
       "      <td>568.936090</td>\n",
       "      <td>279.969458</td>\n",
       "    </tr>\n",
       "    <tr>\n",
       "      <th>FLJ36644</th>\n",
       "      <td>98.165203</td>\n",
       "      <td>121.749541</td>\n",
       "      <td>0.000000</td>\n",
       "      <td>7.676718</td>\n",
       "      <td>104.585189</td>\n",
       "      <td>228.370463</td>\n",
       "      <td>54.266931</td>\n",
       "      <td>19.149262</td>\n",
       "      <td>117.633220</td>\n",
       "      <td>152.026225</td>\n",
       "      <td>98.945407</td>\n",
       "      <td>31.814711</td>\n",
       "    </tr>\n",
       "    <tr>\n",
       "      <th>LOC284454</th>\n",
       "      <td>446.205469</td>\n",
       "      <td>1004.433712</td>\n",
       "      <td>171.132628</td>\n",
       "      <td>168.887797</td>\n",
       "      <td>740.811755</td>\n",
       "      <td>822.133665</td>\n",
       "      <td>294.591913</td>\n",
       "      <td>255.323495</td>\n",
       "      <td>517.586166</td>\n",
       "      <td>769.632762</td>\n",
       "      <td>296.836221</td>\n",
       "      <td>369.050649</td>\n",
       "    </tr>\n",
       "  </tbody>\n",
       "</table>\n",
       "</div>"
      ],
      "text/plain": [
       "                    H1.DN       H1.KO2    H1.AzLow   H1.AzHigh        H2.DN  \\\n",
       "GENE                                                                          \n",
       "LOC100289255     0.000000     0.000000   18.013961   15.353436     0.000000   \n",
       "LOC644656     1570.643250  1836.388909  657.509570  414.542775  1969.687726   \n",
       "LOC646903     1329.692297  1156.620639  549.425805  268.685132  1690.793889   \n",
       "FLJ36644        98.165203   121.749541    0.000000    7.676718   104.585189   \n",
       "LOC284454      446.205469  1004.433712  171.132628  168.887797   740.811755   \n",
       "\n",
       "                   H2.KO2    H2.AzLow   H2.AzHigh        H3.DN       H3.KO2  \\\n",
       "GENE                                                                          \n",
       "LOC100289255    11.418523   23.257256   19.149262     0.000000     9.501639   \n",
       "LOC644656     1952.567455  418.630613  497.880815  1278.280987  1710.295026   \n",
       "LOC646903     2295.123149  558.174150  414.900679   878.328040  1349.232743   \n",
       "FLJ36644       228.370463   54.266931   19.149262   117.633220   152.026225   \n",
       "LOC284454      822.133665  294.591913  255.323495   517.586166   769.632762   \n",
       "\n",
       "                H3.AzLow   H3.AzHigh  \n",
       "GENE                                  \n",
       "LOC100289255   16.490901   19.088827  \n",
       "LOC644656     890.508662  407.228302  \n",
       "LOC646903     568.936090  279.969458  \n",
       "FLJ36644       98.945407   31.814711  \n",
       "LOC284454     296.836221  369.050649  "
      ]
     },
     "execution_count": 6,
     "metadata": {},
     "output_type": "execute_result"
    }
   ],
   "source": [
    "gencounts_GSE53481_Rnorm = (gencounts_GSE53481 / np.divide(gencounts_GSE53481.sum(),1000000))\n",
    "gencounts_GSE53481_Rnorm.head()"
   ]
  },
  {
   "cell_type": "code",
   "execution_count": 7,
   "metadata": {},
   "outputs": [
    {
     "name": "stdout",
     "output_type": "stream",
     "text": [
      "[__set_matrix] Original Matrix 'x' has shape 510 x 12\n",
      "[__set_matrix] Matrix truncation done. Working with 510 genes for 12 samples.\n",
      "[cyclone] Preparing marker pairs, where at least one gene was not present in 'x'... Done!\n",
      "[cyclone] Removed 8102 marker pairs. 8146 marker pairs remaining.\n",
      "[cyclone] Calculating scores and predicting cell cycle phase... Done!\n",
      "[cyclone] Calculated scores and prediction (phase: count): G1: 5, S: 2, G2M: 5\n"
     ]
    }
   ],
   "source": [
    "GSE53481_prediction = pairs.cyclone(gencounts_GSE53481_Qnorm, cc_marker, min_pairs=1, verbose=True)"
   ]
  },
  {
   "cell_type": "code",
   "execution_count": 8,
   "metadata": {},
   "outputs": [
    {
     "data": {
      "text/html": [
       "<div id=\"datatable-b5d6f634-230d-11e8-bc0f-e4a471acd27a\"><table border=\"1\" class=\"dataframe datatable display\">\n",
       "  <thead>\n",
       "    <tr style=\"text-align: right;\">\n",
       "      <th></th>\n",
       "      <th>G1</th>\n",
       "      <th>G2M</th>\n",
       "      <th>S</th>\n",
       "      <th>G1_norm</th>\n",
       "      <th>G2M_norm</th>\n",
       "      <th>S_norm</th>\n",
       "      <th>prediction</th>\n",
       "    </tr>\n",
       "    <tr>\n",
       "      <th>sample</th>\n",
       "      <th></th>\n",
       "      <th></th>\n",
       "      <th></th>\n",
       "      <th></th>\n",
       "      <th></th>\n",
       "      <th></th>\n",
       "      <th></th>\n",
       "    </tr>\n",
       "  </thead>\n",
       "  <tbody>\n",
       "    <tr>\n",
       "      <th>H1.DN</th>\n",
       "      <td>0.585341</td>\n",
       "      <td>0.223447</td>\n",
       "      <td>0.682779</td>\n",
       "      <td>0.392434</td>\n",
       "      <td>0.149807</td>\n",
       "      <td>0.457760</td>\n",
       "      <td>G1</td>\n",
       "    </tr>\n",
       "    <tr>\n",
       "      <th>H1.KO2</th>\n",
       "      <td>0.682828</td>\n",
       "      <td>0.095000</td>\n",
       "      <td>0.789634</td>\n",
       "      <td>0.435627</td>\n",
       "      <td>0.060608</td>\n",
       "      <td>0.503766</td>\n",
       "      <td>G1</td>\n",
       "    </tr>\n",
       "    <tr>\n",
       "      <th>H1.AzLow</th>\n",
       "      <td>0.431590</td>\n",
       "      <td>0.174000</td>\n",
       "      <td>0.819738</td>\n",
       "      <td>0.302800</td>\n",
       "      <td>0.122077</td>\n",
       "      <td>0.575123</td>\n",
       "      <td>S</td>\n",
       "    </tr>\n",
       "    <tr>\n",
       "      <th>H1.AzHigh</th>\n",
       "      <td>0.078000</td>\n",
       "      <td>0.943888</td>\n",
       "      <td>0.030151</td>\n",
       "      <td>0.074142</td>\n",
       "      <td>0.897199</td>\n",
       "      <td>0.028659</td>\n",
       "      <td>G2M</td>\n",
       "    </tr>\n",
       "    <tr>\n",
       "      <th>H2.DN</th>\n",
       "      <td>0.965966</td>\n",
       "      <td>0.182000</td>\n",
       "      <td>0.350151</td>\n",
       "      <td>0.644787</td>\n",
       "      <td>0.121486</td>\n",
       "      <td>0.233728</td>\n",
       "      <td>G1</td>\n",
       "    </tr>\n",
       "    <tr>\n",
       "      <th>H2.KO2</th>\n",
       "      <td>0.864185</td>\n",
       "      <td>0.001016</td>\n",
       "      <td>0.644261</td>\n",
       "      <td>0.572512</td>\n",
       "      <td>0.000673</td>\n",
       "      <td>0.426815</td>\n",
       "      <td>G1</td>\n",
       "    </tr>\n",
       "    <tr>\n",
       "      <th>H2.AzLow</th>\n",
       "      <td>0.528169</td>\n",
       "      <td>0.741483</td>\n",
       "      <td>0.371457</td>\n",
       "      <td>0.321837</td>\n",
       "      <td>0.451818</td>\n",
       "      <td>0.226345</td>\n",
       "      <td>G2M</td>\n",
       "    </tr>\n",
       "    <tr>\n",
       "      <th>H2.AzHigh</th>\n",
       "      <td>0.083156</td>\n",
       "      <td>0.992979</td>\n",
       "      <td>0.000000</td>\n",
       "      <td>0.077273</td>\n",
       "      <td>0.922727</td>\n",
       "      <td>0.000000</td>\n",
       "      <td>G2M</td>\n",
       "    </tr>\n",
       "    <tr>\n",
       "      <th>H3.DN</th>\n",
       "      <td>0.663992</td>\n",
       "      <td>0.600000</td>\n",
       "      <td>0.096057</td>\n",
       "      <td>0.488212</td>\n",
       "      <td>0.441161</td>\n",
       "      <td>0.070627</td>\n",
       "      <td>G1</td>\n",
       "    </tr>\n",
       "    <tr>\n",
       "      <th>H3.KO2</th>\n",
       "      <td>0.210262</td>\n",
       "      <td>0.039000</td>\n",
       "      <td>0.305359</td>\n",
       "      <td>0.379109</td>\n",
       "      <td>0.070318</td>\n",
       "      <td>0.550573</td>\n",
       "      <td>S</td>\n",
       "    </tr>\n",
       "    <tr>\n",
       "      <th>H3.AzLow</th>\n",
       "      <td>0.323293</td>\n",
       "      <td>0.970000</td>\n",
       "      <td>0.216734</td>\n",
       "      <td>0.214098</td>\n",
       "      <td>0.642373</td>\n",
       "      <td>0.143530</td>\n",
       "      <td>G2M</td>\n",
       "    </tr>\n",
       "    <tr>\n",
       "      <th>H3.AzHigh</th>\n",
       "      <td>0.286869</td>\n",
       "      <td>0.926707</td>\n",
       "      <td>0.273663</td>\n",
       "      <td>0.192887</td>\n",
       "      <td>0.623106</td>\n",
       "      <td>0.184007</td>\n",
       "      <td>G2M</td>\n",
       "    </tr>\n",
       "  </tbody>\n",
       "</table>\n",
       "            <script type=\"text/javascript\">\n",
       "                $(document).ready(function() {\n",
       "                    require(['dataTables'], function() {\n",
       "                        $('#datatable-b5d6f634-230d-11e8-bc0f-e4a471acd27a').find('table.datatable').dataTable({\n",
       "                        columnDefs: [{ targets: [0,1,2,3,4,5,6], type: 'scientific' }]});\n",
       "                    });\n",
       "                });\n",
       "            </script>\n",
       "        </div>\n",
       "    "
      ],
      "text/plain": [
       "<IPython.core.display.HTML object>"
      ]
     },
     "execution_count": 8,
     "metadata": {},
     "output_type": "execute_result"
    }
   ],
   "source": [
    "GSE53481_prediction_table = helper.get_prediction_table(GSE53481_prediction)\n",
    "helper.DataTable(GSE53481_prediction_table)"
   ]
  },
  {
   "cell_type": "code",
   "execution_count": 9,
   "metadata": {},
   "outputs": [],
   "source": [
    "GSE53481_labels = ['G1', 'G1','S','G2M','G1', 'G1','S','G2M','G1', 'G1','S','G2M']"
   ]
  },
  {
   "cell_type": "code",
   "execution_count": 10,
   "metadata": {},
   "outputs": [
    {
     "name": "stdout",
     "output_type": "stream",
     "text": [
      "F1 Score: G1: 0.9090909090909091, S: 0.4, G2M: 0.7499999999999999\n",
      "Reacall: G1: 0.8333333333333334, S: 0.3333333333333333, G2M: 1.0 \n",
      "Precision: G1: 1.0, S: 0.5, G2M: 0.6 \n"
     ]
    }
   ],
   "source": [
    "GSE53481_evaluation = helper.evaluate_prediction(GSE53481_prediction_table, GSE53481_labels)"
   ]
  },
  {
   "cell_type": "code",
   "execution_count": 11,
   "metadata": {},
   "outputs": [
    {
     "data": {
      "application/vnd.plotly.v1+json": {
       "data": [
        {
         "marker": {
          "color": "red",
          "size": 10,
          "symbol": "circle"
         },
         "mode": "markers",
         "name": "F1-Score",
         "type": "scatter",
         "x": [
          "G1",
          "S",
          "G2M"
         ],
         "y": [
          0.9090909090909091,
          0.4,
          0.7499999999999999
         ]
        },
        {
         "marker": {
          "color": "blue",
          "size": 10,
          "symbol": "square"
         },
         "mode": "markers",
         "name": "Recall-Score",
         "type": "scatter",
         "x": [
          "G1",
          "S",
          "G2M"
         ],
         "y": [
          0.8333333333333334,
          0.3333333333333333,
          1
         ]
        },
        {
         "marker": {
          "color": "green",
          "size": 10,
          "symbol": "triangle-up"
         },
         "mode": "markers",
         "name": "Precision-Score",
         "type": "scatter",
         "x": [
          "G1",
          "S",
          "G2M"
         ],
         "y": [
          1,
          0.5,
          0.6
         ]
        }
       ],
       "layout": {
        "title": "",
        "xaxis": {
         "title": "Phase"
        },
        "yaxis": {
         "title": "F1, Recall, Precision Score"
        }
       }
      },
      "text/html": [
       "<div id=\"3f6389d1-5ad3-46d9-844f-1746b7faa434\" style=\"height: 525px; width: 100%;\" class=\"plotly-graph-div\"></div><script type=\"text/javascript\">require([\"plotly\"], function(Plotly) { window.PLOTLYENV=window.PLOTLYENV || {};window.PLOTLYENV.BASE_URL=\"https://plot.ly\";Plotly.newPlot(\"3f6389d1-5ad3-46d9-844f-1746b7faa434\", [{\"type\": \"scatter\", \"x\": [\"G1\", \"S\", \"G2M\"], \"y\": [0.9090909090909091, 0.4, 0.7499999999999999], \"mode\": \"markers\", \"marker\": {\"symbol\": \"circle\", \"size\": 10, \"color\": \"red\"}, \"name\": \"F1-Score\"}, {\"type\": \"scatter\", \"x\": [\"G1\", \"S\", \"G2M\"], \"y\": [0.8333333333333334, 0.3333333333333333, 1.0], \"mode\": \"markers\", \"marker\": {\"symbol\": \"square\", \"size\": 10, \"color\": \"blue\"}, \"name\": \"Recall-Score\"}, {\"type\": \"scatter\", \"x\": [\"G1\", \"S\", \"G2M\"], \"y\": [1.0, 0.5, 0.6], \"mode\": \"markers\", \"marker\": {\"symbol\": \"triangle-up\", \"size\": 10, \"color\": \"green\"}, \"name\": \"Precision-Score\"}], {\"title\": \"\", \"xaxis\": {\"title\": \"Phase\"}, \"yaxis\": {\"title\": \"F1, Recall, Precision Score\"}}, {\"showLink\": true, \"linkText\": \"Export to plot.ly\"})});</script>"
      ],
      "text/vnd.plotly.v1+html": [
       "<div id=\"3f6389d1-5ad3-46d9-844f-1746b7faa434\" style=\"height: 525px; width: 100%;\" class=\"plotly-graph-div\"></div><script type=\"text/javascript\">require([\"plotly\"], function(Plotly) { window.PLOTLYENV=window.PLOTLYENV || {};window.PLOTLYENV.BASE_URL=\"https://plot.ly\";Plotly.newPlot(\"3f6389d1-5ad3-46d9-844f-1746b7faa434\", [{\"type\": \"scatter\", \"x\": [\"G1\", \"S\", \"G2M\"], \"y\": [0.9090909090909091, 0.4, 0.7499999999999999], \"mode\": \"markers\", \"marker\": {\"symbol\": \"circle\", \"size\": 10, \"color\": \"red\"}, \"name\": \"F1-Score\"}, {\"type\": \"scatter\", \"x\": [\"G1\", \"S\", \"G2M\"], \"y\": [0.8333333333333334, 0.3333333333333333, 1.0], \"mode\": \"markers\", \"marker\": {\"symbol\": \"square\", \"size\": 10, \"color\": \"blue\"}, \"name\": \"Recall-Score\"}, {\"type\": \"scatter\", \"x\": [\"G1\", \"S\", \"G2M\"], \"y\": [1.0, 0.5, 0.6], \"mode\": \"markers\", \"marker\": {\"symbol\": \"triangle-up\", \"size\": 10, \"color\": \"green\"}, \"name\": \"Precision-Score\"}], {\"title\": \"\", \"xaxis\": {\"title\": \"Phase\"}, \"yaxis\": {\"title\": \"F1, Recall, Precision Score\"}}, {\"showLink\": true, \"linkText\": \"Export to plot.ly\"})});</script>"
      ]
     },
     "metadata": {},
     "output_type": "display_data"
    },
    {
     "data": {
      "text/plain": [
       "{'data': [{'marker': {'color': 'red', 'size': 10, 'symbol': 'circle'},\n",
       "   'mode': 'markers',\n",
       "   'name': 'F1-Score',\n",
       "   'type': 'scatter',\n",
       "   'x': ['G1', 'S', 'G2M'],\n",
       "   'y': array([0.90909091, 0.4       , 0.75      ])},\n",
       "  {'marker': {'color': 'blue', 'size': 10, 'symbol': 'square'},\n",
       "   'mode': 'markers',\n",
       "   'name': 'Recall-Score',\n",
       "   'type': 'scatter',\n",
       "   'x': ['G1', 'S', 'G2M'],\n",
       "   'y': array([0.83333333, 0.33333333, 1.        ])},\n",
       "  {'marker': {'color': 'green', 'size': 10, 'symbol': 'triangle-up'},\n",
       "   'mode': 'markers',\n",
       "   'name': 'Precision-Score',\n",
       "   'type': 'scatter',\n",
       "   'x': ['G1', 'S', 'G2M'],\n",
       "   'y': array([1. , 0.5, 0.6])}],\n",
       " 'layout': {'title': '',\n",
       "  'xaxis': {'title': 'Phase'},\n",
       "  'yaxis': {'title': 'F1, Recall, Precision Score'}}}"
      ]
     },
     "execution_count": 11,
     "metadata": {},
     "output_type": "execute_result"
    }
   ],
   "source": [
    "helper.plot_evaluation(*GSE53481_evaluation, xaxis=[\"G1\",\"S\",\"G2M\"], xaxislbl=\"Phase\")"
   ]
  },
  {
   "cell_type": "code",
   "execution_count": 12,
   "metadata": {},
   "outputs": [
    {
     "data": {
      "application/vnd.plotly.v1+json": {
       "data": [
        {
         "marker": {
          "color": "black",
          "size": 10,
          "symbol": "circle"
         },
         "mode": "markers+text",
         "name": "Sample0",
         "text": [
          "H1 DN",
          "H1 KO2",
          "H1 AzLow",
          "H1 AzHigh"
         ],
         "textfont": {
          "size": 12
         },
         "textposition": "top left",
         "type": "scatter",
         "x": [
          0.2948688453319679,
          0.4114466327340685,
          -0.20537479794114882,
          -0.6890125529344526
         ],
         "y": [
          -0.9555377355461121,
          -0.9114338530095294,
          -0.9786833974123769,
          0.7247494062769201
         ]
        },
        {
         "hoverinfo": "none",
         "mode": "text",
         "showlegend": false,
         "text": [
          "G1",
          "G2M",
          "S"
         ],
         "type": "scatter",
         "x": [
          0.625,
          -0.25,
          -0.375
         ],
         "y": [
          -0.125,
          0.5,
          -0.375
         ]
        }
       ],
       "layout": {
        "height": 950,
        "shapes": [
         {
          "fillcolor": "rgba(255,0,0,0.2)",
          "path": " M 0,0 L0,-1 C 0.552,-1 1,-0.552 1,0 C 1,0.15 0.972,0.442 0.707,0.707 Z",
          "type": "path"
         },
         {
          "fillcolor": "rgba(255,255,0,0.2)",
          "path": " M 0,0 L-1,0 C -1,-0.552 -0.552,-1 0,-1 Z",
          "type": "path"
         },
         {
          "fillcolor": "rgba(0,0,255,0.2)",
          "path": " M 0,0 L0.707,0.707 C 0.442,0.952 0.205,1 0,1 C -0.552,1 -1,0.552 -1,0 Z",
          "type": "path"
         }
        ],
        "title": "Assignment of hESC H1 cells",
        "width": 950,
        "xaxis": {
         "range": [
          -1.5,
          1.5
         ],
         "showgrid": false,
         "showline": false,
         "showticklabels": false,
         "zeroline": false
        },
        "yaxis": {
         "range": [
          -1.5,
          1.5
         ],
         "showgrid": false,
         "showline": false,
         "showticklabels": false
        }
       }
      },
      "text/html": [
       "<div id=\"3cfedd9e-393d-4980-920f-59181e29e854\" style=\"height: 950px; width: 950px;\" class=\"plotly-graph-div\"></div><script type=\"text/javascript\">require([\"plotly\"], function(Plotly) { window.PLOTLYENV=window.PLOTLYENV || {};window.PLOTLYENV.BASE_URL=\"https://plot.ly\";Plotly.newPlot(\"3cfedd9e-393d-4980-920f-59181e29e854\", [{\"type\": \"scatter\", \"x\": [0.2948688453319679, 0.4114466327340685, -0.20537479794114882, -0.6890125529344526], \"y\": [-0.9555377355461121, -0.9114338530095294, -0.9786833974123769, 0.7247494062769201], \"mode\": \"markers+text\", \"marker\": {\"symbol\": \"circle\", \"size\": 10, \"color\": \"black\"}, \"name\": \"Sample0\", \"text\": [\"H1 DN\", \"H1 KO2\", \"H1 AzLow\", \"H1 AzHigh\"], \"textposition\": \"top left\", \"textfont\": {\"size\": 12}}, {\"type\": \"scatter\", \"x\": [0.625, -0.25, -0.375], \"y\": [-0.125, 0.5, -0.375], \"text\": [\"G1\", \"G2M\", \"S\"], \"mode\": \"text\", \"showlegend\": false, \"hoverinfo\": \"none\"}], {\"title\": \"Assignment of hESC H1 cells\", \"xaxis\": {\"showgrid\": false, \"showticklabels\": false, \"showline\": false, \"range\": [-1.5, 1.5], \"zeroline\": false}, \"yaxis\": {\"showgrid\": false, \"showticklabels\": false, \"showline\": false, \"range\": [-1.5, 1.5]}, \"width\": 950, \"height\": 950, \"shapes\": [{\"type\": \"path\", \"path\": \" M 0,0 L0,-1 C 0.552,-1 1,-0.552 1,0 C 1,0.15 0.972,0.442 0.707,0.707 Z\", \"fillcolor\": \"rgba(255,0,0,0.2)\"}, {\"type\": \"path\", \"path\": \" M 0,0 L-1,0 C -1,-0.552 -0.552,-1 0,-1 Z\", \"fillcolor\": \"rgba(255,255,0,0.2)\"}, {\"type\": \"path\", \"path\": \" M 0,0 L0.707,0.707 C 0.442,0.952 0.205,1 0,1 C -0.552,1 -1,0.552 -1,0 Z\", \"fillcolor\": \"rgba(0,0,255,0.2)\"}]}, {\"showLink\": true, \"linkText\": \"Export to plot.ly\"})});</script>"
      ],
      "text/vnd.plotly.v1+html": [
       "<div id=\"3cfedd9e-393d-4980-920f-59181e29e854\" style=\"height: 950px; width: 950px;\" class=\"plotly-graph-div\"></div><script type=\"text/javascript\">require([\"plotly\"], function(Plotly) { window.PLOTLYENV=window.PLOTLYENV || {};window.PLOTLYENV.BASE_URL=\"https://plot.ly\";Plotly.newPlot(\"3cfedd9e-393d-4980-920f-59181e29e854\", [{\"type\": \"scatter\", \"x\": [0.2948688453319679, 0.4114466327340685, -0.20537479794114882, -0.6890125529344526], \"y\": [-0.9555377355461121, -0.9114338530095294, -0.9786833974123769, 0.7247494062769201], \"mode\": \"markers+text\", \"marker\": {\"symbol\": \"circle\", \"size\": 10, \"color\": \"black\"}, \"name\": \"Sample0\", \"text\": [\"H1 DN\", \"H1 KO2\", \"H1 AzLow\", \"H1 AzHigh\"], \"textposition\": \"top left\", \"textfont\": {\"size\": 12}}, {\"type\": \"scatter\", \"x\": [0.625, -0.25, -0.375], \"y\": [-0.125, 0.5, -0.375], \"text\": [\"G1\", \"G2M\", \"S\"], \"mode\": \"text\", \"showlegend\": false, \"hoverinfo\": \"none\"}], {\"title\": \"Assignment of hESC H1 cells\", \"xaxis\": {\"showgrid\": false, \"showticklabels\": false, \"showline\": false, \"range\": [-1.5, 1.5], \"zeroline\": false}, \"yaxis\": {\"showgrid\": false, \"showticklabels\": false, \"showline\": false, \"range\": [-1.5, 1.5]}, \"width\": 950, \"height\": 950, \"shapes\": [{\"type\": \"path\", \"path\": \" M 0,0 L0,-1 C 0.552,-1 1,-0.552 1,0 C 1,0.15 0.972,0.442 0.707,0.707 Z\", \"fillcolor\": \"rgba(255,0,0,0.2)\"}, {\"type\": \"path\", \"path\": \" M 0,0 L-1,0 C -1,-0.552 -0.552,-1 0,-1 Z\", \"fillcolor\": \"rgba(255,255,0,0.2)\"}, {\"type\": \"path\", \"path\": \" M 0,0 L0.707,0.707 C 0.442,0.952 0.205,1 0,1 C -0.552,1 -1,0.552 -1,0 Z\", \"fillcolor\": \"rgba(0,0,255,0.2)\"}]}, {\"showLink\": true, \"linkText\": \"Export to plot.ly\"})});</script>"
      ]
     },
     "metadata": {},
     "output_type": "display_data"
    },
    {
     "data": {
      "application/vnd.plotly.v1+json": {
       "data": [
        {
         "marker": {
          "color": "black",
          "size": 10,
          "symbol": "circle"
         },
         "mode": "markers+text",
         "name": "Sample0",
         "text": [
          "H1 DN",
          "H1 KO2",
          "H1 AzLow",
          "H1 AzHigh"
         ],
         "textfont": {
          "size": 12
         },
         "textposition": "top left",
         "type": "scatter",
         "x": [
          0.2948688453319679,
          0.4114466327340685,
          -0.20537479794114882,
          -0.6890125529344526
         ],
         "y": [
          -0.9555377355461121,
          -0.9114338530095294,
          -0.9786833974123769,
          0.7247494062769201
         ]
        },
        {
         "hoverinfo": "none",
         "mode": "text",
         "showlegend": false,
         "text": [
          "G1",
          "G2M",
          "S"
         ],
         "type": "scatter",
         "x": [
          0.625,
          -0.25,
          -0.375
         ],
         "y": [
          -0.125,
          0.5,
          -0.375
         ]
        }
       ],
       "layout": {
        "height": 950,
        "shapes": [
         {
          "fillcolor": "rgba(255,0,0,0.2)",
          "path": " M 0,0 L0,-1 C 0.552,-1 1,-0.552 1,0 C 1,0.15 0.972,0.442 0.707,0.707 Z",
          "type": "path"
         },
         {
          "fillcolor": "rgba(255,255,0,0.2)",
          "path": " M 0,0 L-1,0 C -1,-0.552 -0.552,-1 0,-1 Z",
          "type": "path"
         },
         {
          "fillcolor": "rgba(0,0,255,0.2)",
          "path": " M 0,0 L0.707,0.707 C 0.442,0.952 0.205,1 0,1 C -0.552,1 -1,0.552 -1,0 Z",
          "type": "path"
         }
        ],
        "title": "Assignment of hESC H1 cells",
        "width": 950,
        "xaxis": {
         "range": [
          -1.5,
          1.5
         ],
         "showgrid": false,
         "showline": false,
         "showticklabels": false,
         "zeroline": false
        },
        "yaxis": {
         "range": [
          -1.5,
          1.5
         ],
         "showgrid": false,
         "showline": false,
         "showticklabels": false
        }
       }
      },
      "text/html": [
       "<div id=\"1d15ae6b-494f-495d-8cb8-817cf66d4177\" style=\"height: 950px; width: 950px;\" class=\"plotly-graph-div\"></div><script type=\"text/javascript\">require([\"plotly\"], function(Plotly) { window.PLOTLYENV=window.PLOTLYENV || {};window.PLOTLYENV.BASE_URL=\"https://plot.ly\";Plotly.newPlot(\"1d15ae6b-494f-495d-8cb8-817cf66d4177\", [{\"type\": \"scatter\", \"x\": [0.2948688453319679, 0.4114466327340685, -0.20537479794114882, -0.6890125529344526], \"y\": [-0.9555377355461121, -0.9114338530095294, -0.9786833974123769, 0.7247494062769201], \"mode\": \"markers+text\", \"marker\": {\"symbol\": \"circle\", \"size\": 10, \"color\": \"black\"}, \"name\": \"Sample0\", \"text\": [\"H1 DN\", \"H1 KO2\", \"H1 AzLow\", \"H1 AzHigh\"], \"textposition\": \"top left\", \"textfont\": {\"size\": 12}}, {\"type\": \"scatter\", \"x\": [0.625, -0.25, -0.375], \"y\": [-0.125, 0.5, -0.375], \"text\": [\"G1\", \"G2M\", \"S\"], \"mode\": \"text\", \"showlegend\": false, \"hoverinfo\": \"none\"}], {\"title\": \"Assignment of hESC H1 cells\", \"xaxis\": {\"showgrid\": false, \"showticklabels\": false, \"showline\": false, \"range\": [-1.5, 1.5], \"zeroline\": false}, \"yaxis\": {\"showgrid\": false, \"showticklabels\": false, \"showline\": false, \"range\": [-1.5, 1.5]}, \"width\": 950, \"height\": 950, \"shapes\": [{\"type\": \"path\", \"path\": \" M 0,0 L0,-1 C 0.552,-1 1,-0.552 1,0 C 1,0.15 0.972,0.442 0.707,0.707 Z\", \"fillcolor\": \"rgba(255,0,0,0.2)\"}, {\"type\": \"path\", \"path\": \" M 0,0 L-1,0 C -1,-0.552 -0.552,-1 0,-1 Z\", \"fillcolor\": \"rgba(255,255,0,0.2)\"}, {\"type\": \"path\", \"path\": \" M 0,0 L0.707,0.707 C 0.442,0.952 0.205,1 0,1 C -0.552,1 -1,0.552 -1,0 Z\", \"fillcolor\": \"rgba(0,0,255,0.2)\"}]}, {\"showLink\": true, \"linkText\": \"Export to plot.ly\"})});</script>"
      ],
      "text/vnd.plotly.v1+html": [
       "<div id=\"1d15ae6b-494f-495d-8cb8-817cf66d4177\" style=\"height: 950px; width: 950px;\" class=\"plotly-graph-div\"></div><script type=\"text/javascript\">require([\"plotly\"], function(Plotly) { window.PLOTLYENV=window.PLOTLYENV || {};window.PLOTLYENV.BASE_URL=\"https://plot.ly\";Plotly.newPlot(\"1d15ae6b-494f-495d-8cb8-817cf66d4177\", [{\"type\": \"scatter\", \"x\": [0.2948688453319679, 0.4114466327340685, -0.20537479794114882, -0.6890125529344526], \"y\": [-0.9555377355461121, -0.9114338530095294, -0.9786833974123769, 0.7247494062769201], \"mode\": \"markers+text\", \"marker\": {\"symbol\": \"circle\", \"size\": 10, \"color\": \"black\"}, \"name\": \"Sample0\", \"text\": [\"H1 DN\", \"H1 KO2\", \"H1 AzLow\", \"H1 AzHigh\"], \"textposition\": \"top left\", \"textfont\": {\"size\": 12}}, {\"type\": \"scatter\", \"x\": [0.625, -0.25, -0.375], \"y\": [-0.125, 0.5, -0.375], \"text\": [\"G1\", \"G2M\", \"S\"], \"mode\": \"text\", \"showlegend\": false, \"hoverinfo\": \"none\"}], {\"title\": \"Assignment of hESC H1 cells\", \"xaxis\": {\"showgrid\": false, \"showticklabels\": false, \"showline\": false, \"range\": [-1.5, 1.5], \"zeroline\": false}, \"yaxis\": {\"showgrid\": false, \"showticklabels\": false, \"showline\": false, \"range\": [-1.5, 1.5]}, \"width\": 950, \"height\": 950, \"shapes\": [{\"type\": \"path\", \"path\": \" M 0,0 L0,-1 C 0.552,-1 1,-0.552 1,0 C 1,0.15 0.972,0.442 0.707,0.707 Z\", \"fillcolor\": \"rgba(255,0,0,0.2)\"}, {\"type\": \"path\", \"path\": \" M 0,0 L-1,0 C -1,-0.552 -0.552,-1 0,-1 Z\", \"fillcolor\": \"rgba(255,255,0,0.2)\"}, {\"type\": \"path\", \"path\": \" M 0,0 L0.707,0.707 C 0.442,0.952 0.205,1 0,1 C -0.552,1 -1,0.552 -1,0 Z\", \"fillcolor\": \"rgba(0,0,255,0.2)\"}]}, {\"showLink\": true, \"linkText\": \"Export to plot.ly\"})});</script>"
      ]
     },
     "metadata": {},
     "output_type": "display_data"
    },
    {
     "data": {
      "text/html": [
       "<script>function downloadimage(format, height, width, filename) {var p = document.getElementById('1d15ae6b-494f-495d-8cb8-817cf66d4177');Plotly.downloadImage(p, {format: format, height: height, width: width, filename: filename});};if(document.readyState == 'complete') {{downloadimage('svg', 600, 800, 'plot_image');}}</script>"
      ],
      "text/plain": [
       "<IPython.core.display.HTML object>"
      ]
     },
     "metadata": {},
     "output_type": "display_data"
    }
   ],
   "source": [
    "sample1_g1 = [GSE53481_prediction_table.iloc[i, 0] for i in range (0,4)]\n",
    "sample1_s = [GSE53481_prediction_table.iloc[i, 2] for i in range (0,4)]\n",
    "sample1_g2m = [GSE53481_prediction_table.iloc[i, 1] for i in range (0,4)]\n",
    "plot = helper.plot_prediction(sample1_g1, sample1_s, sample1_g2m, t=\"pie\", xaxis=['DN', 'KO2', 'AzLow', 'AzHigh'], xaxislbl=\"H1\", title=\"Assignment of hESC H1 cells\",width=950,height=950)\n",
    "iplot(plot,image='svg')"
   ]
  },
  {
   "cell_type": "code",
   "execution_count": 13,
   "metadata": {},
   "outputs": [
    {
     "data": {
      "application/vnd.plotly.v1+json": {
       "data": [
        {
         "marker": {
          "color": "black",
          "size": 10,
          "symbol": "circle"
         },
         "mode": "markers+text",
         "name": "Sample0",
         "text": [
          "Average DN",
          "Average KO2",
          "Average AzLow",
          "Average AzHigh"
         ],
         "textfont": {
          "size": 12
         },
         "textposition": "top left",
         "type": "scatter",
         "x": [
          0.8225440531104546,
          0.18522075458556936,
          -0.4904571883021251,
          -0.6108311468761282
         ],
         "y": [
          -0.568701398532328,
          -0.982696938059111,
          0.8714652869981533,
          0.7917608919402332
         ]
        },
        {
         "hoverinfo": "none",
         "mode": "text",
         "showlegend": false,
         "text": [
          "G1",
          "G2M",
          "S"
         ],
         "type": "scatter",
         "x": [
          0.625,
          -0.25,
          -0.375
         ],
         "y": [
          -0.125,
          0.5,
          -0.375
         ]
        }
       ],
       "layout": {
        "height": 950,
        "shapes": [
         {
          "fillcolor": "rgba(255,0,0,0.2)",
          "path": " M 0,0 L0,-1 C 0.552,-1 1,-0.552 1,0 C 1,0.15 0.972,0.442 0.707,0.707 Z",
          "type": "path"
         },
         {
          "fillcolor": "rgba(255,255,0,0.2)",
          "path": " M 0,0 L-1,0 C -1,-0.552 -0.552,-1 0,-1 Z",
          "type": "path"
         },
         {
          "fillcolor": "rgba(0,0,255,0.2)",
          "path": " M 0,0 L0.707,0.707 C 0.442,0.952 0.205,1 0,1 C -0.552,1 -1,0.552 -1,0 Z",
          "type": "path"
         }
        ],
        "title": "Average assignment of hESC all cells",
        "width": 950,
        "xaxis": {
         "range": [
          -1.5,
          1.5
         ],
         "showgrid": false,
         "showline": false,
         "showticklabels": false,
         "zeroline": false
        },
        "yaxis": {
         "range": [
          -1.5,
          1.5
         ],
         "showgrid": false,
         "showline": false,
         "showticklabels": false
        }
       }
      },
      "text/html": [
       "<div id=\"dabdca32-a40a-4bd3-9e71-98bbfdb1dcec\" style=\"height: 950px; width: 950px;\" class=\"plotly-graph-div\"></div><script type=\"text/javascript\">require([\"plotly\"], function(Plotly) { window.PLOTLYENV=window.PLOTLYENV || {};window.PLOTLYENV.BASE_URL=\"https://plot.ly\";Plotly.newPlot(\"dabdca32-a40a-4bd3-9e71-98bbfdb1dcec\", [{\"type\": \"scatter\", \"x\": [0.8225440531104546, 0.18522075458556936, -0.4904571883021251, -0.6108311468761282], \"y\": [-0.568701398532328, -0.982696938059111, 0.8714652869981533, 0.7917608919402332], \"mode\": \"markers+text\", \"marker\": {\"symbol\": \"circle\", \"size\": 10, \"color\": \"black\"}, \"name\": \"Sample0\", \"text\": [\"Average DN\", \"Average KO2\", \"Average AzLow\", \"Average AzHigh\"], \"textposition\": \"top left\", \"textfont\": {\"size\": 12}}, {\"type\": \"scatter\", \"x\": [0.625, -0.25, -0.375], \"y\": [-0.125, 0.5, -0.375], \"text\": [\"G1\", \"G2M\", \"S\"], \"mode\": \"text\", \"showlegend\": false, \"hoverinfo\": \"none\"}], {\"title\": \"Average assignment of hESC all cells\", \"xaxis\": {\"showgrid\": false, \"showticklabels\": false, \"showline\": false, \"range\": [-1.5, 1.5], \"zeroline\": false}, \"yaxis\": {\"showgrid\": false, \"showticklabels\": false, \"showline\": false, \"range\": [-1.5, 1.5]}, \"width\": 950, \"height\": 950, \"shapes\": [{\"type\": \"path\", \"path\": \" M 0,0 L0,-1 C 0.552,-1 1,-0.552 1,0 C 1,0.15 0.972,0.442 0.707,0.707 Z\", \"fillcolor\": \"rgba(255,0,0,0.2)\"}, {\"type\": \"path\", \"path\": \" M 0,0 L-1,0 C -1,-0.552 -0.552,-1 0,-1 Z\", \"fillcolor\": \"rgba(255,255,0,0.2)\"}, {\"type\": \"path\", \"path\": \" M 0,0 L0.707,0.707 C 0.442,0.952 0.205,1 0,1 C -0.552,1 -1,0.552 -1,0 Z\", \"fillcolor\": \"rgba(0,0,255,0.2)\"}]}, {\"showLink\": true, \"linkText\": \"Export to plot.ly\"})});</script>"
      ],
      "text/vnd.plotly.v1+html": [
       "<div id=\"dabdca32-a40a-4bd3-9e71-98bbfdb1dcec\" style=\"height: 950px; width: 950px;\" class=\"plotly-graph-div\"></div><script type=\"text/javascript\">require([\"plotly\"], function(Plotly) { window.PLOTLYENV=window.PLOTLYENV || {};window.PLOTLYENV.BASE_URL=\"https://plot.ly\";Plotly.newPlot(\"dabdca32-a40a-4bd3-9e71-98bbfdb1dcec\", [{\"type\": \"scatter\", \"x\": [0.8225440531104546, 0.18522075458556936, -0.4904571883021251, -0.6108311468761282], \"y\": [-0.568701398532328, -0.982696938059111, 0.8714652869981533, 0.7917608919402332], \"mode\": \"markers+text\", \"marker\": {\"symbol\": \"circle\", \"size\": 10, \"color\": \"black\"}, \"name\": \"Sample0\", \"text\": [\"Average DN\", \"Average KO2\", \"Average AzLow\", \"Average AzHigh\"], \"textposition\": \"top left\", \"textfont\": {\"size\": 12}}, {\"type\": \"scatter\", \"x\": [0.625, -0.25, -0.375], \"y\": [-0.125, 0.5, -0.375], \"text\": [\"G1\", \"G2M\", \"S\"], \"mode\": \"text\", \"showlegend\": false, \"hoverinfo\": \"none\"}], {\"title\": \"Average assignment of hESC all cells\", \"xaxis\": {\"showgrid\": false, \"showticklabels\": false, \"showline\": false, \"range\": [-1.5, 1.5], \"zeroline\": false}, \"yaxis\": {\"showgrid\": false, \"showticklabels\": false, \"showline\": false, \"range\": [-1.5, 1.5]}, \"width\": 950, \"height\": 950, \"shapes\": [{\"type\": \"path\", \"path\": \" M 0,0 L0,-1 C 0.552,-1 1,-0.552 1,0 C 1,0.15 0.972,0.442 0.707,0.707 Z\", \"fillcolor\": \"rgba(255,0,0,0.2)\"}, {\"type\": \"path\", \"path\": \" M 0,0 L-1,0 C -1,-0.552 -0.552,-1 0,-1 Z\", \"fillcolor\": \"rgba(255,255,0,0.2)\"}, {\"type\": \"path\", \"path\": \" M 0,0 L0.707,0.707 C 0.442,0.952 0.205,1 0,1 C -0.552,1 -1,0.552 -1,0 Z\", \"fillcolor\": \"rgba(0,0,255,0.2)\"}]}, {\"showLink\": true, \"linkText\": \"Export to plot.ly\"})});</script>"
      ]
     },
     "metadata": {},
     "output_type": "display_data"
    },
    {
     "data": {
      "application/vnd.plotly.v1+json": {
       "data": [
        {
         "marker": {
          "color": "black",
          "size": 10,
          "symbol": "circle"
         },
         "mode": "markers+text",
         "name": "Sample0",
         "text": [
          "Average DN",
          "Average KO2",
          "Average AzLow",
          "Average AzHigh"
         ],
         "textfont": {
          "size": 12
         },
         "textposition": "top left",
         "type": "scatter",
         "x": [
          0.8225440531104546,
          0.18522075458556936,
          -0.4904571883021251,
          -0.6108311468761282
         ],
         "y": [
          -0.568701398532328,
          -0.982696938059111,
          0.8714652869981533,
          0.7917608919402332
         ]
        },
        {
         "hoverinfo": "none",
         "mode": "text",
         "showlegend": false,
         "text": [
          "G1",
          "G2M",
          "S"
         ],
         "type": "scatter",
         "x": [
          0.625,
          -0.25,
          -0.375
         ],
         "y": [
          -0.125,
          0.5,
          -0.375
         ]
        }
       ],
       "layout": {
        "height": 950,
        "shapes": [
         {
          "fillcolor": "rgba(255,0,0,0.2)",
          "path": " M 0,0 L0,-1 C 0.552,-1 1,-0.552 1,0 C 1,0.15 0.972,0.442 0.707,0.707 Z",
          "type": "path"
         },
         {
          "fillcolor": "rgba(255,255,0,0.2)",
          "path": " M 0,0 L-1,0 C -1,-0.552 -0.552,-1 0,-1 Z",
          "type": "path"
         },
         {
          "fillcolor": "rgba(0,0,255,0.2)",
          "path": " M 0,0 L0.707,0.707 C 0.442,0.952 0.205,1 0,1 C -0.552,1 -1,0.552 -1,0 Z",
          "type": "path"
         }
        ],
        "title": "Average assignment of hESC all cells",
        "width": 950,
        "xaxis": {
         "range": [
          -1.5,
          1.5
         ],
         "showgrid": false,
         "showline": false,
         "showticklabels": false,
         "zeroline": false
        },
        "yaxis": {
         "range": [
          -1.5,
          1.5
         ],
         "showgrid": false,
         "showline": false,
         "showticklabels": false
        }
       }
      },
      "text/html": [
       "<div id=\"7bc6a5b0-6f9d-49ef-81ac-4243b506926c\" style=\"height: 950px; width: 950px;\" class=\"plotly-graph-div\"></div><script type=\"text/javascript\">require([\"plotly\"], function(Plotly) { window.PLOTLYENV=window.PLOTLYENV || {};window.PLOTLYENV.BASE_URL=\"https://plot.ly\";Plotly.newPlot(\"7bc6a5b0-6f9d-49ef-81ac-4243b506926c\", [{\"type\": \"scatter\", \"x\": [0.8225440531104546, 0.18522075458556936, -0.4904571883021251, -0.6108311468761282], \"y\": [-0.568701398532328, -0.982696938059111, 0.8714652869981533, 0.7917608919402332], \"mode\": \"markers+text\", \"marker\": {\"symbol\": \"circle\", \"size\": 10, \"color\": \"black\"}, \"name\": \"Sample0\", \"text\": [\"Average DN\", \"Average KO2\", \"Average AzLow\", \"Average AzHigh\"], \"textposition\": \"top left\", \"textfont\": {\"size\": 12}}, {\"type\": \"scatter\", \"x\": [0.625, -0.25, -0.375], \"y\": [-0.125, 0.5, -0.375], \"text\": [\"G1\", \"G2M\", \"S\"], \"mode\": \"text\", \"showlegend\": false, \"hoverinfo\": \"none\"}], {\"title\": \"Average assignment of hESC all cells\", \"xaxis\": {\"showgrid\": false, \"showticklabels\": false, \"showline\": false, \"range\": [-1.5, 1.5], \"zeroline\": false}, \"yaxis\": {\"showgrid\": false, \"showticklabels\": false, \"showline\": false, \"range\": [-1.5, 1.5]}, \"width\": 950, \"height\": 950, \"shapes\": [{\"type\": \"path\", \"path\": \" M 0,0 L0,-1 C 0.552,-1 1,-0.552 1,0 C 1,0.15 0.972,0.442 0.707,0.707 Z\", \"fillcolor\": \"rgba(255,0,0,0.2)\"}, {\"type\": \"path\", \"path\": \" M 0,0 L-1,0 C -1,-0.552 -0.552,-1 0,-1 Z\", \"fillcolor\": \"rgba(255,255,0,0.2)\"}, {\"type\": \"path\", \"path\": \" M 0,0 L0.707,0.707 C 0.442,0.952 0.205,1 0,1 C -0.552,1 -1,0.552 -1,0 Z\", \"fillcolor\": \"rgba(0,0,255,0.2)\"}]}, {\"showLink\": true, \"linkText\": \"Export to plot.ly\"})});</script>"
      ],
      "text/vnd.plotly.v1+html": [
       "<div id=\"7bc6a5b0-6f9d-49ef-81ac-4243b506926c\" style=\"height: 950px; width: 950px;\" class=\"plotly-graph-div\"></div><script type=\"text/javascript\">require([\"plotly\"], function(Plotly) { window.PLOTLYENV=window.PLOTLYENV || {};window.PLOTLYENV.BASE_URL=\"https://plot.ly\";Plotly.newPlot(\"7bc6a5b0-6f9d-49ef-81ac-4243b506926c\", [{\"type\": \"scatter\", \"x\": [0.8225440531104546, 0.18522075458556936, -0.4904571883021251, -0.6108311468761282], \"y\": [-0.568701398532328, -0.982696938059111, 0.8714652869981533, 0.7917608919402332], \"mode\": \"markers+text\", \"marker\": {\"symbol\": \"circle\", \"size\": 10, \"color\": \"black\"}, \"name\": \"Sample0\", \"text\": [\"Average DN\", \"Average KO2\", \"Average AzLow\", \"Average AzHigh\"], \"textposition\": \"top left\", \"textfont\": {\"size\": 12}}, {\"type\": \"scatter\", \"x\": [0.625, -0.25, -0.375], \"y\": [-0.125, 0.5, -0.375], \"text\": [\"G1\", \"G2M\", \"S\"], \"mode\": \"text\", \"showlegend\": false, \"hoverinfo\": \"none\"}], {\"title\": \"Average assignment of hESC all cells\", \"xaxis\": {\"showgrid\": false, \"showticklabels\": false, \"showline\": false, \"range\": [-1.5, 1.5], \"zeroline\": false}, \"yaxis\": {\"showgrid\": false, \"showticklabels\": false, \"showline\": false, \"range\": [-1.5, 1.5]}, \"width\": 950, \"height\": 950, \"shapes\": [{\"type\": \"path\", \"path\": \" M 0,0 L0,-1 C 0.552,-1 1,-0.552 1,0 C 1,0.15 0.972,0.442 0.707,0.707 Z\", \"fillcolor\": \"rgba(255,0,0,0.2)\"}, {\"type\": \"path\", \"path\": \" M 0,0 L-1,0 C -1,-0.552 -0.552,-1 0,-1 Z\", \"fillcolor\": \"rgba(255,255,0,0.2)\"}, {\"type\": \"path\", \"path\": \" M 0,0 L0.707,0.707 C 0.442,0.952 0.205,1 0,1 C -0.552,1 -1,0.552 -1,0 Z\", \"fillcolor\": \"rgba(0,0,255,0.2)\"}]}, {\"showLink\": true, \"linkText\": \"Export to plot.ly\"})});</script>"
      ]
     },
     "metadata": {},
     "output_type": "display_data"
    },
    {
     "data": {
      "text/html": [
       "<script>function downloadimage(format, height, width, filename) {var p = document.getElementById('7bc6a5b0-6f9d-49ef-81ac-4243b506926c');Plotly.downloadImage(p, {format: format, height: height, width: width, filename: filename});};if(document.readyState == 'complete') {{downloadimage('svg', 600, 800, 'plot_image');}}</script>"
      ],
      "text/plain": [
       "<IPython.core.display.HTML object>"
      ]
     },
     "metadata": {},
     "output_type": "display_data"
    }
   ],
   "source": [
    "avg_g1 = [np.average(GSE53481_prediction_table.iloc[[i, i+4, i+8], 0].values) for i in range (0,4)]\n",
    "avg_s = [np.average(GSE53481_prediction_table.iloc[[i, i+4, i+8], 2].values) for i in range (0,4)]\n",
    "avg_g2m = [np.average(GSE53481_prediction_table.iloc[[i, i+4, i+8], 1].values) for i in range (0,4)]\n",
    "plot = helper.plot_prediction(avg_g1, avg_s, avg_g2m, t=\"pie\", xaxis=['DN', 'KO2', 'AzLow', 'AzHigh'], xaxislbl=\"Average\", title=\"Average assignment of hESC all cells\", width=950,height=950)\n",
    "iplot(plot,image='svg')"
   ]
  },
  {
   "cell_type": "code",
   "execution_count": null,
   "metadata": {},
   "outputs": [],
   "source": []
  }
 ],
 "metadata": {
  "kernelspec": {
   "display_name": "Python 3",
   "language": "python",
   "name": "python3"
  },
  "language_info": {
   "codemirror_mode": {
    "name": "ipython",
    "version": 3
   },
   "file_extension": ".py",
   "mimetype": "text/x-python",
   "name": "python",
   "nbconvert_exporter": "python",
   "pygments_lexer": "ipython3",
   "version": "3.6.3"
  }
 },
 "nbformat": 4,
 "nbformat_minor": 2
}
