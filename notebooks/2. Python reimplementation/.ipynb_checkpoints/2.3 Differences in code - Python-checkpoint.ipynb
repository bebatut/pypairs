{
 "cells": [
  {
   "cell_type": "code",
   "execution_count": 6,
   "metadata": {},
   "outputs": [
    {
     "data": {
      "text/html": [
       "<script>requirejs.config({paths: { 'plotly': ['https://cdn.plot.ly/plotly-latest.min']},});if(!window.Plotly) {{require(['plotly'],function(plotly) {window.Plotly=plotly;});}}</script>"
      ],
      "text/vnd.plotly.v1+html": [
       "<script>requirejs.config({paths: { 'plotly': ['https://cdn.plot.ly/plotly-latest.min']},});if(!window.Plotly) {{require(['plotly'],function(plotly) {window.Plotly=plotly;});}}</script>"
      ]
     },
     "metadata": {},
     "output_type": "display_data"
    }
   ],
   "source": [
    "import sys\n",
    "sys.path.append(\"./../../../\")\n",
    "\n",
    "import pandas\n",
    "from pathlib import Path\n",
    "import pairs_flat_v2 as pairs\n",
    "import timeit\n",
    "import helper\n",
    "from tqdm import tqdm_notebook as tqdm\n",
    "from plotly.offline import download_plotlyjs, init_notebook_mode, plot, iplot\n",
    "import plotly.graph_objs as go\n",
    "\n",
    "init_notebook_mode(connected=True)"
   ]
  },
  {
   "cell_type": "code",
   "execution_count": 7,
   "metadata": {},
   "outputs": [],
   "source": [
    "# Load matrix\n",
    "oscope_gencounts = pandas.read_csv(Path(\"./../../data/GSE64016_H1andFUCCI_normalized_EC_human.csv\"))\n",
    "\n",
    "# Set index right\n",
    "oscope_gencounts.set_index(\"Unnamed: 0\", inplace=True)\n",
    "\n",
    "# Subset sorted\n",
    "oscope_gencounts_sorted = oscope_gencounts.iloc[:, [oscope_gencounts.columns.get_loc(c) for c in oscope_gencounts.columns if \"G1_\" in c or \"G2_\" in c or \"S_\" in c]]\n",
    "\n",
    "# Define annotation\n",
    "is_G1 = [oscope_gencounts_sorted.columns.get_loc(c) for c in oscope_gencounts_sorted.columns if \"G1_\" in c]\n",
    "is_S = [oscope_gencounts_sorted.columns.get_loc(c) for c in oscope_gencounts_sorted.columns if \"S_\" in c]\n",
    "is_G2M = [oscope_gencounts_sorted.columns.get_loc(c) for c in oscope_gencounts_sorted.columns if \"G2_\" in c]\n",
    "\n",
    "annotation = {\n",
    "    \"G1\": list(is_G1),\n",
    "    \"S\": list(is_S),\n",
    "    \"G2M\": list(is_G2M)\n",
    "}\n",
    "\n",
    "no_genes = len(oscope_gencounts_sorted.index) - 1"
   ]
  },
  {
   "cell_type": "code",
   "execution_count": 8,
   "metadata": {},
   "outputs": [
    {
     "data": {
      "application/vnd.jupyter.widget-view+json": {
       "model_id": "ffb223078a4040d9b615538e4401f8f5",
       "version_major": 2,
       "version_minor": 0
      },
      "text/html": [
       "<p>Failed to display Jupyter Widget of type <code>HBox</code>.</p>\n",
       "<p>\n",
       "  If you're reading this message in the Jupyter Notebook or JupyterLab Notebook, it may mean\n",
       "  that the widgets JavaScript is still loading. If this message persists, it\n",
       "  likely means that the widgets JavaScript library is either not installed or\n",
       "  not enabled. See the <a href=\"https://ipywidgets.readthedocs.io/en/stable/user_install.html\">Jupyter\n",
       "  Widgets Documentation</a> for setup instructions.\n",
       "</p>\n",
       "<p>\n",
       "  If you're reading this message in another frontend (for example, a static\n",
       "  rendering on GitHub or <a href=\"https://nbviewer.jupyter.org/\">NBViewer</a>),\n",
       "  it may mean that your frontend doesn't currently support widgets.\n",
       "</p>\n"
      ],
      "text/plain": [
       "HBox(children=(IntProgress(value=0, max=7), HTML(value='')))"
      ]
     },
     "metadata": {},
     "output_type": "display_data"
    },
    {
     "name": "stdout",
     "output_type": "stream",
     "text": [
      "[__set_matrix] Original Matrix 'x' has shape 10 x 247\n",
      "[__set_matrix] Removed 2 genes that were not expressed in any samples. 8 genes remaining.\n",
      "[__set_matrix] Removed 0 samples that were not annotated in 'phases'. 247 samples remaining.\n",
      "[__set_matrix] Matrix truncation done. Working with 8 genes for 247 samples.\n",
      "[sandbag] Identifying marker pairs... Done!\n",
      "[sandbag] Identified 0 marker pairs (phase: count): {'G1': 0, 'S': 0, 'G2M': 0}\n",
      "[__set_matrix] Original Matrix 'x' has shape 100 x 247\n",
      "[__set_matrix] Removed 14 genes that were not expressed in any samples. 86 genes remaining.\n",
      "[__set_matrix] Removed 0 samples that were not annotated in 'phases'. 247 samples remaining.\n",
      "[__set_matrix] Matrix truncation done. Working with 86 genes for 247 samples.\n",
      "[sandbag] Identifying marker pairs... Done!\n",
      "[sandbag] Identified 0 marker pairs (phase: count): {'G1': 0, 'S': 0, 'G2M': 0}\n",
      "[__set_matrix] Original Matrix 'x' has shape 500 x 247\n",
      "[__set_matrix] Removed 56 genes that were not expressed in any samples. 444 genes remaining.\n",
      "[__set_matrix] Removed 0 samples that were not annotated in 'phases'. 247 samples remaining.\n",
      "[__set_matrix] Matrix truncation done. Working with 444 genes for 247 samples.\n",
      "[sandbag] Identifying marker pairs... Done!\n",
      "[sandbag] Identified 5 marker pairs (phase: count): {'G1': 1, 'S': 3, 'G2M': 1}\n",
      "[__set_matrix] Original Matrix 'x' has shape 1000 x 247\n",
      "[__set_matrix] Removed 112 genes that were not expressed in any samples. 888 genes remaining.\n",
      "[__set_matrix] Removed 0 samples that were not annotated in 'phases'. 247 samples remaining.\n",
      "[__set_matrix] Matrix truncation done. Working with 888 genes for 247 samples.\n",
      "[sandbag] Identifying marker pairs... Done!\n",
      "[sandbag] Identified 32 marker pairs (phase: count): {'G1': 10, 'S': 15, 'G2M': 7}\n",
      "[__set_matrix] Original Matrix 'x' has shape 5000 x 247\n",
      "[__set_matrix] Removed 492 genes that were not expressed in any samples. 4508 genes remaining.\n",
      "[__set_matrix] Removed 0 samples that were not annotated in 'phases'. 247 samples remaining.\n",
      "[__set_matrix] Matrix truncation done. Working with 4508 genes for 247 samples.\n",
      "[sandbag] Identifying marker pairs... Done!\n",
      "[sandbag] Identified 873 marker pairs (phase: count): {'G1': 387, 'S': 415, 'G2M': 71}\n",
      "[__set_matrix] Original Matrix 'x' has shape 10000 x 247\n",
      "[__set_matrix] Removed 1001 genes that were not expressed in any samples. 8999 genes remaining.\n",
      "[__set_matrix] Removed 0 samples that were not annotated in 'phases'. 247 samples remaining.\n",
      "[__set_matrix] Matrix truncation done. Working with 8999 genes for 247 samples.\n",
      "[sandbag] Identifying marker pairs... Done!\n",
      "[sandbag] Identified 3921 marker pairs (phase: count): {'G1': 1716, 'S': 1522, 'G2M': 683}\n",
      "[__set_matrix] Original Matrix 'x' has shape 19000 x 247\n",
      "[__set_matrix] Removed 1956 genes that were not expressed in any samples. 17044 genes remaining.\n",
      "[__set_matrix] Removed 0 samples that were not annotated in 'phases'. 247 samples remaining.\n",
      "[__set_matrix] Matrix truncation done. Working with 17044 genes for 247 samples.\n",
      "[sandbag] Identifying marker pairs... Done!\n",
      "[sandbag] Identified 15748 marker pairs (phase: count): {'G1': 6326, 'S': 7559, 'G2M': 1863}\n",
      "\n"
     ]
    }
   ],
   "source": [
    "t = []\n",
    "genes = [10,100,500,1000,5000,10000,19000]\n",
    "for g in tqdm(genes):\n",
    "    \n",
    "    sub = helper.random_subset(range(0, no_genes), g)\n",
    "    subset = oscope_gencounts_sorted.iloc[sub, :]\n",
    "    \n",
    "    start = timeit.default_timer()\n",
    "    oscope_marker_pairs = pairs_flat.sandbag(x=subset, phases=annotation, fraction=0.65, processes=1, verboose=True)\n",
    "    time_sandbag = timeit.default_timer() - start\n",
    "    t.append(time_sandbag)\n"
   ]
  },
  {
   "cell_type": "code",
   "execution_count": 2,
   "metadata": {},
   "outputs": [],
   "source": [
    "t_python = [0.01, 0.06, 0.84, 3.01, 79.75, 334.85, 1142.37]\n",
    "t_r = [0.01, 0.08, 1.49, 6.37, 180.56, 803.64, 2761.00]"
   ]
  },
  {
   "cell_type": "code",
   "execution_count": 10,
   "metadata": {},
   "outputs": [
    {
     "data": {
      "application/vnd.plotly.v1+json": {
       "data": [
        {
         "marker": {
          "color": "green",
          "size": 10,
          "symbol": "circle"
         },
         "mode": "markers+lines",
         "name": "PyPairs",
         "type": "scatter",
         "x": [
          10,
          100,
          500,
          1000,
          5000,
          10000,
          19000
         ],
         "y": [
          0.01,
          0.06,
          0.84,
          3.01,
          79.75,
          334.85,
          1142.37
         ]
        },
        {
         "marker": {
          "color": "blue",
          "size": 10,
          "symbol": "square"
         },
         "mode": "markers+lines",
         "name": "R Version",
         "type": "scatter",
         "x": [
          10,
          100,
          500,
          1000,
          5000,
          10000,
          19000
         ],
         "y": [
          0.01,
          0.08,
          1.49,
          6.37,
          180.56,
          803.64,
          2761
         ]
        }
       ],
       "layout": {
        "title": "Speed comparison: R implementation vs PyPairs",
        "xaxis": {
         "title": "No. of genes"
        },
        "yaxis": {
         "title": "Time in ms"
        }
       }
      },
      "text/html": [
       "<div id=\"3a180bf4-5454-462e-bbe9-196d8041593a\" style=\"height: 525px; width: 100%;\" class=\"plotly-graph-div\"></div><script type=\"text/javascript\">require([\"plotly\"], function(Plotly) { window.PLOTLYENV=window.PLOTLYENV || {};window.PLOTLYENV.BASE_URL=\"https://plot.ly\";Plotly.newPlot(\"3a180bf4-5454-462e-bbe9-196d8041593a\", [{\"type\": \"scatter\", \"x\": [10, 100, 500, 1000, 5000, 10000, 19000], \"y\": [0.01, 0.06, 0.84, 3.01, 79.75, 334.85, 1142.37], \"mode\": \"markers+lines\", \"marker\": {\"symbol\": \"circle\", \"size\": 10, \"color\": \"green\"}, \"name\": \"PyPairs\"}, {\"type\": \"scatter\", \"x\": [10, 100, 500, 1000, 5000, 10000, 19000], \"y\": [0.01, 0.08, 1.49, 6.37, 180.56, 803.64, 2761.0], \"mode\": \"markers+lines\", \"marker\": {\"symbol\": \"square\", \"size\": 10, \"color\": \"blue\"}, \"name\": \"R Version\"}], {\"title\": \"Speed comparison: R implementation vs PyPairs\", \"xaxis\": {\"title\": \"No. of genes\"}, \"yaxis\": {\"title\": \"Time in ms\"}}, {\"showLink\": true, \"linkText\": \"Export to plot.ly\"})});</script>"
      ],
      "text/vnd.plotly.v1+html": [
       "<div id=\"3a180bf4-5454-462e-bbe9-196d8041593a\" style=\"height: 525px; width: 100%;\" class=\"plotly-graph-div\"></div><script type=\"text/javascript\">require([\"plotly\"], function(Plotly) { window.PLOTLYENV=window.PLOTLYENV || {};window.PLOTLYENV.BASE_URL=\"https://plot.ly\";Plotly.newPlot(\"3a180bf4-5454-462e-bbe9-196d8041593a\", [{\"type\": \"scatter\", \"x\": [10, 100, 500, 1000, 5000, 10000, 19000], \"y\": [0.01, 0.06, 0.84, 3.01, 79.75, 334.85, 1142.37], \"mode\": \"markers+lines\", \"marker\": {\"symbol\": \"circle\", \"size\": 10, \"color\": \"green\"}, \"name\": \"PyPairs\"}, {\"type\": \"scatter\", \"x\": [10, 100, 500, 1000, 5000, 10000, 19000], \"y\": [0.01, 0.08, 1.49, 6.37, 180.56, 803.64, 2761.0], \"mode\": \"markers+lines\", \"marker\": {\"symbol\": \"square\", \"size\": 10, \"color\": \"blue\"}, \"name\": \"R Version\"}], {\"title\": \"Speed comparison: R implementation vs PyPairs\", \"xaxis\": {\"title\": \"No. of genes\"}, \"yaxis\": {\"title\": \"Time in ms\"}}, {\"showLink\": true, \"linkText\": \"Export to plot.ly\"})});</script>"
      ]
     },
     "metadata": {},
     "output_type": "display_data"
    }
   ],
   "source": [
    "# Create traces\n",
    "trace0 = go.Scatter(\n",
    "    x= [10,100,500,1000,5000,10000,19000],\n",
    "    y= t_python,\n",
    "    mode='markers+lines',\n",
    "    marker=dict(\n",
    "        symbol='circle',\n",
    "        size=10,\n",
    "        color='green',\n",
    "    ),\n",
    "    name='PyPairs'\n",
    ")\n",
    "\n",
    "trace1 = go.Scatter(\n",
    "    x= [10,100,500,1000,5000,10000,19000],\n",
    "    y= t_r,\n",
    "    mode='markers+lines',\n",
    "    marker=dict(\n",
    "        symbol='square',\n",
    "        size=10,\n",
    "        color='blue',\n",
    "    ),\n",
    "    name='R Version'\n",
    ")\n",
    "\n",
    "layout = go.Layout(\n",
    "    title='Speed comparison: R implementation vs PyPairs',\n",
    "    xaxis=dict(\n",
    "        title='No. of genes',\n",
    "    ),\n",
    "    yaxis=dict(\n",
    "        title='Time in ms',\n",
    "    )\n",
    ")\n",
    "\n",
    "data = go.Figure(data=[trace0, trace1], layout=layout)\n",
    "\n",
    "iplot(data)"
   ]
  },
  {
   "cell_type": "code",
   "execution_count": null,
   "metadata": {},
   "outputs": [],
   "source": []
  }
 ],
 "metadata": {
  "kernelspec": {
   "display_name": "Python 3",
   "language": "python",
   "name": "python3"
  },
  "language_info": {
   "codemirror_mode": {
    "name": "ipython",
    "version": 3
   },
   "file_extension": ".py",
   "mimetype": "text/x-python",
   "name": "python",
   "nbconvert_exporter": "python",
   "pygments_lexer": "ipython3",
   "version": "3.6.3"
  }
 },
 "nbformat": 4,
 "nbformat_minor": 2
}
