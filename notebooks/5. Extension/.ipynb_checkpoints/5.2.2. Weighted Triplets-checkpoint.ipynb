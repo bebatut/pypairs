{
 "cells": [
  {
   "cell_type": "code",
   "execution_count": 1,
   "metadata": {},
   "outputs": [],
   "source": [
    "import sys\n",
    "base = \"./../../../\"\n",
    "sys.path.append(base)"
   ]
  },
  {
   "cell_type": "code",
   "execution_count": 2,
   "metadata": {},
   "outputs": [
    {
     "data": {
      "text/html": [
       "<script>requirejs.config({paths: { 'plotly': ['https://cdn.plot.ly/plotly-latest.min']},});if(!window.Plotly) {{require(['plotly'],function(plotly) {window.Plotly=plotly;});}}</script>"
      ],
      "text/vnd.plotly.v1+html": [
       "<script>requirejs.config({paths: { 'plotly': ['https://cdn.plot.ly/plotly-latest.min']},});if(!window.Plotly) {{require(['plotly'],function(plotly) {window.Plotly=plotly;});}}</script>"
      ]
     },
     "metadata": {},
     "output_type": "display_data"
    }
   ],
   "source": [
    "import json\n",
    "import pandas\n",
    "import pairs_flat_v2 as pairs\n",
    "import helper\n",
    "from sklearn.preprocessing import QuantileTransformer\n",
    "from plotly.offline import download_plotlyjs, init_notebook_mode, plot, iplot\n",
    "import plotly.graph_objs as go\n",
    "import numpy as np\n",
    "from tqdm import tqdm_notebook as tqdm\n",
    "from pathlib import Path\n",
    "\n",
    "tqdm.monitor_interval = 0\n",
    "init_notebook_mode(connected=True)"
   ]
  },
  {
   "cell_type": "code",
   "execution_count": 3,
   "metadata": {},
   "outputs": [
    {
     "name": "stdout",
     "output_type": "stream",
     "text": [
      "[__set_matrix] Original Matrix 'x' has shape 19084 x 247\n",
      "[__set_matrix] Removed 16689 genes that were not in 'subset_genes'. 2395 genes remaining.\n",
      "[__set_matrix] Removed 61 genes that were not expressed in any samples. 2334 genes remaining.\n",
      "[__set_matrix] Removed 0 samples that were not annotated in 'phases'. 247 samples remaining.\n",
      "[__set_matrix] Matrix truncation done. Working with 2334 genes for 247 samples.\n",
      "[sandbag] Identifying marker pairs...Processing in parallel with 10 processes...\n",
      " Done!\n",
      "[sandbag] Identified 149824 marker pairs (phase: count): {'G1': 50750, 'S': 59280, 'G2M': 39794}\n"
     ]
    }
   ],
   "source": [
    "# Load matrix\n",
    "gencounts_oscope = pandas.read_csv(Path(base + \"data/GSE64016_H1andFUCCI_normalized_EC_human.csv\"))\n",
    "\n",
    "# Set index right\n",
    "gencounts_oscope.set_index(\"Unnamed: 0\", inplace=True)\n",
    "\n",
    "# Subset sorted\n",
    "gencounts_oscope_sorted = gencounts_oscope.iloc[:, \n",
    "                                                       [gencounts_oscope.columns.get_loc(c) \n",
    "                                                        for c in gencounts_oscope.columns \n",
    "                                                        if \"G1_\" in c or \"G2_\" in c or \"S_\" in c]]\n",
    "\n",
    "# Define annotation\n",
    "is_G1 = [gencounts_oscope_sorted.columns.get_loc(c) for c in gencounts_oscope_sorted.columns if \"G1_\" in c]\n",
    "is_S = [gencounts_oscope_sorted.columns.get_loc(c) for c in gencounts_oscope_sorted.columns if \"S_\" in c]\n",
    "is_G2M = [gencounts_oscope_sorted.columns.get_loc(c) for c in gencounts_oscope_sorted.columns if \"G2_\" in c]\n",
    "\n",
    "annotation = {\n",
    "    \"G1\": list(is_G1),\n",
    "    \"S\": list(is_S),\n",
    "    \"G2M\": list(is_G2M)\n",
    "}\n",
    "\n",
    "go_0007049 = [line.replace(\"\\n\",\"\").replace(\"\\r\",\"\") for line in open(base + \"data/go_0007049_homoSapiens.csv\", \"r\")]\n",
    "cycle_base = [line.split(\"\\t\")[0] for i, line in enumerate(open(base + \"data/cyclebase_top1000_genes.tsv\", \"r\")) if 0 < i]\n",
    "cycle_genes = np.unique(np.concatenate((go_0007049, cycle_base),0))\n",
    "\n",
    "cc_marker = pairs.sandbag(gencounts_oscope_sorted, phases=annotation, subset_genes=list(cycle_genes), fraction=0.5, processes=10, verbose=True, weighted=True)"
   ]
  },
  {
   "cell_type": "code",
   "execution_count": 4,
   "metadata": {},
   "outputs": [
    {
     "ename": "TypeError",
     "evalue": "'>' not supported between instances of 'list' and 'int'",
     "output_type": "error",
     "traceback": [
      "\u001b[1;31m---------------------------------------------------------------------------\u001b[0m",
      "\u001b[1;31mTypeError\u001b[0m                                 Traceback (most recent call last)",
      "\u001b[1;32m<ipython-input-4-a9dcd6ee7190>\u001b[0m in \u001b[0;36m<module>\u001b[1;34m()\u001b[0m\n\u001b[1;32m----> 1\u001b[1;33m \u001b[0mtriplets\u001b[0m \u001b[1;33m=\u001b[0m \u001b[0mpairs\u001b[0m\u001b[1;33m.\u001b[0m\u001b[0midentify_triplets\u001b[0m\u001b[1;33m(\u001b[0m\u001b[0mcc_marker\u001b[0m\u001b[1;33m,\u001b[0m \u001b[0mweighted\u001b[0m\u001b[1;33m=\u001b[0m\u001b[1;32mTrue\u001b[0m\u001b[1;33m)\u001b[0m\u001b[1;33m\u001b[0m\u001b[0m\n\u001b[0m",
      "\u001b[1;32m~\\PycharmProjects\\cellcycleprediction\\pairs_flat_v2.py\u001b[0m in \u001b[0;36midentify_triplets\u001b[1;34m(marker_pairs, weighted, fraction)\u001b[0m\n\u001b[0;32m    653\u001b[0m                         \u001b[1;32mif\u001b[0m \u001b[0mweighted\u001b[0m\u001b[1;33m:\u001b[0m\u001b[1;33m\u001b[0m\u001b[0m\n\u001b[0;32m    654\u001b[0m                             \u001b[0mweight\u001b[0m \u001b[1;33m=\u001b[0m \u001b[1;33m[\u001b[0m\u001b[0mweight_map\u001b[0m\u001b[1;33m[\u001b[0m\u001b[1;33m(\u001b[0m\u001b[0mg1\u001b[0m\u001b[1;33m,\u001b[0m \u001b[0mg2\u001b[0m\u001b[1;33m)\u001b[0m\u001b[1;33m]\u001b[0m \u001b[1;33m*\u001b[0m \u001b[0mweight_map\u001b[0m\u001b[1;33m[\u001b[0m\u001b[1;33m(\u001b[0m\u001b[0mg2\u001b[0m\u001b[1;33m,\u001b[0m \u001b[0mg3\u001b[0m\u001b[1;33m)\u001b[0m\u001b[1;33m]\u001b[0m \u001b[1;33m*\u001b[0m \u001b[0mweight_map\u001b[0m\u001b[1;33m[\u001b[0m\u001b[1;33m(\u001b[0m\u001b[0mg1\u001b[0m\u001b[1;33m,\u001b[0m \u001b[0mg3\u001b[0m\u001b[1;33m)\u001b[0m\u001b[1;33m]\u001b[0m\u001b[1;33m]\u001b[0m\u001b[1;33m\u001b[0m\u001b[0m\n\u001b[1;32m--> 655\u001b[1;33m                             \u001b[1;32mif\u001b[0m \u001b[0mweight\u001b[0m \u001b[1;33m>\u001b[0m \u001b[0mfraction\u001b[0m\u001b[1;33m:\u001b[0m\u001b[1;33m\u001b[0m\u001b[0m\n\u001b[0m\u001b[0;32m    656\u001b[0m                                 \u001b[0mfound\u001b[0m\u001b[1;33m.\u001b[0m\u001b[0mappend\u001b[0m\u001b[1;33m(\u001b[0m\u001b[1;33m(\u001b[0m\u001b[0mg1\u001b[0m\u001b[1;33m,\u001b[0m \u001b[0mg2\u001b[0m\u001b[1;33m,\u001b[0m \u001b[0mg3\u001b[0m\u001b[1;33m,\u001b[0m \u001b[0mweight\u001b[0m\u001b[1;33m)\u001b[0m\u001b[1;33m)\u001b[0m\u001b[1;33m\u001b[0m\u001b[0m\n\u001b[0;32m    657\u001b[0m                         \u001b[1;32melse\u001b[0m\u001b[1;33m:\u001b[0m\u001b[1;33m\u001b[0m\u001b[0m\n",
      "\u001b[1;31mTypeError\u001b[0m: '>' not supported between instances of 'list' and 'int'"
     ]
    }
   ],
   "source": [
    "triplets = pairs.identify_triplets(cc_marker, weighted=True)"
   ]
  },
  {
   "cell_type": "code",
   "execution_count": null,
   "metadata": {
    "scrolled": true
   },
   "outputs": [],
   "source": [
    "for phase, tips in triplets.items():\n",
    "    print(\"{} contains {} triples\".format(phase, len(tips)))"
   ]
  },
  {
   "cell_type": "code",
   "execution_count": null,
   "metadata": {},
   "outputs": [],
   "source": [
    "gencounts_EMATB6142 = pandas.read_csv(Path(base + \"data/E-MTAB-6142_human.csv\"), sep=';')\n",
    "gencounts_EMATB6142.set_index(\"Gene_ID\", inplace=True)\n",
    "gene_map = {}\n",
    "\n",
    "with open(base + \"data/biomart_human-genes.txt\", \"r\") as f:\n",
    "    for line in f:\n",
    "        info = line.split(\",\")\n",
    "        gene_map[info[0].replace(\"\\n\",\"\").replace(\"\\r\",\"\")] = info[1].replace(\"\\n\",\"\")\n",
    "\n",
    "index_list = gencounts_EMATB6142.index.tolist()\n",
    "\n",
    "for idx, i in enumerate(index_list):\n",
    "    try:\n",
    "        if \".\" in i:\n",
    "            index_list[idx] = gene_map[i[:i.index(\".\")]]\n",
    "        else:\n",
    "            index_list[idx] = gene_map[i] \n",
    "    except KeyError:\n",
    "        pass\n",
    "\n",
    "gencounts_EMATB6142.index = index_list\n",
    "#gencounts_EMATB6142 = gencounts_EMATB6142[~gencounts_EMATB6142.index.duplicated(keep=False)]\n",
    "x = gencounts_EMATB6142.T.values\n",
    "\n",
    "X_std = QuantileTransformer().fit_transform(x.astype(float))\n",
    "\n",
    "gencounts_EMATB6142_Qnorm = pandas.DataFrame(X_std.T, index=gencounts_EMATB6142.index, columns=gencounts_EMATB6142.columns)"
   ]
  },
  {
   "cell_type": "code",
   "execution_count": null,
   "metadata": {
    "scrolled": true
   },
   "outputs": [],
   "source": [
    "EMATB6142_prediction = pairs.cyclone(gencounts_EMATB6142_Qnorm, triplets, verbose=True, weighted=True, processes=0, triplets=True)"
   ]
  },
  {
   "cell_type": "code",
   "execution_count": null,
   "metadata": {},
   "outputs": [],
   "source": [
    "EMATB6142_prediction_table = helper.get_prediction_table(EMATB6142_prediction)\n",
    "helper.DataTable(EMATB6142_prediction_table)"
   ]
  },
  {
   "cell_type": "code",
   "execution_count": null,
   "metadata": {},
   "outputs": [],
   "source": [
    "EMATB6142_labels = list(['G1'] * 32) + list(['S'] * 32) + list(['G2M'] * 32)"
   ]
  },
  {
   "cell_type": "code",
   "execution_count": null,
   "metadata": {},
   "outputs": [],
   "source": [
    "EMATB6142_evaluation = helper.evaluate_prediction(EMATB6142_prediction_table, EMATB6142_labels)"
   ]
  },
  {
   "cell_type": "code",
   "execution_count": null,
   "metadata": {},
   "outputs": [],
   "source": [
    "helper.plot_evaluation(*EMATB6142_evaluation, xaxis=[\"G1\",\"S\",\"G2M\"], xaxislbl=\"Phase\", average=True)"
   ]
  },
  {
   "cell_type": "markdown",
   "metadata": {},
   "source": [
    "Cross Check"
   ]
  },
  {
   "cell_type": "code",
   "execution_count": null,
   "metadata": {},
   "outputs": [],
   "source": [
    "EMATB6142_prediction = pairs.cyclone(gencounts_EMATB6142_Qnorm, cc_marker, verbose=True, weighted=True, processes=0, triplets=True)"
   ]
  },
  {
   "cell_type": "code",
   "execution_count": null,
   "metadata": {},
   "outputs": [],
   "source": [
    "EMATB6142_prediction_table = helper.get_prediction_table(EMATB6142_prediction)\n",
    "helper.DataTable(EMATB6142_prediction_table)"
   ]
  },
  {
   "cell_type": "code",
   "execution_count": null,
   "metadata": {},
   "outputs": [],
   "source": [
    "helper.plot_evaluation(*EMATB6142_evaluation, xaxis=[\"G1\",\"S\",\"G2M\"], xaxislbl=\"Phase\", average=True)"
   ]
  }
 ],
 "metadata": {
  "kernelspec": {
   "display_name": "Python 3",
   "language": "python",
   "name": "python3"
  },
  "language_info": {
   "codemirror_mode": {
    "name": "ipython",
    "version": 3
   },
   "file_extension": ".py",
   "mimetype": "text/x-python",
   "name": "python",
   "nbconvert_exporter": "python",
   "pygments_lexer": "ipython3",
   "version": "3.6.3"
  }
 },
 "nbformat": 4,
 "nbformat_minor": 2
}
